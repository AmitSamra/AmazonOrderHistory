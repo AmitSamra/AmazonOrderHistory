{
 "cells": [
  {
   "cell_type": "markdown",
   "metadata": {},
   "source": [
    "# <a id='home'>Table of Contents</a>\n",
    "\n",
    "<a href='#section1'>1. Data Processing</a>\n",
    "\n",
    "<a href='#section2'>2. Connecting to SQL</a>\n",
    "\n",
    "<a href='#section3'>3. Data Analysis and Visualization</a>\n",
    "\n",
    "<a href='#section4'>4. Data Analysis Using SQL</a>"
   ]
  },
  {
   "cell_type": "code",
   "execution_count": 37,
   "metadata": {},
   "outputs": [],
   "source": [
    "import numpy as np\n",
    "import pandas as pd\n",
    "import matplotlib.pyplot as plt\n",
    "import matplotlib.ticker as ticker\n",
    "import matplotlib.markers as markers\n",
    "from datetime import datetime as dt\n",
    "import os\n",
    "#pd.set_option('display.max_rows', 1000)"
   ]
  },
  {
   "cell_type": "markdown",
   "metadata": {},
   "source": [
    "## <a id='section1'>1. Data Processing</a>\n",
    "\n",
    "<a href='#home'>Home</a>"
   ]
  },
  {
   "cell_type": "code",
   "execution_count": 38,
   "metadata": {},
   "outputs": [
    {
     "data": {
      "text/html": [
       "<div>\n",
       "<style scoped>\n",
       "    .dataframe tbody tr th:only-of-type {\n",
       "        vertical-align: middle;\n",
       "    }\n",
       "\n",
       "    .dataframe tbody tr th {\n",
       "        vertical-align: top;\n",
       "    }\n",
       "\n",
       "    .dataframe thead th {\n",
       "        text-align: right;\n",
       "    }\n",
       "</style>\n",
       "<table border=\"1\" class=\"dataframe\">\n",
       "  <thead>\n",
       "    <tr style=\"text-align: right;\">\n",
       "      <th></th>\n",
       "      <th>Order ID</th>\n",
       "      <th>Order Date</th>\n",
       "      <th>Category</th>\n",
       "      <th>Website</th>\n",
       "      <th>Condition</th>\n",
       "      <th>Seller</th>\n",
       "      <th>List Price Per Unit</th>\n",
       "      <th>Purchase Price Per Unit</th>\n",
       "      <th>Quantity</th>\n",
       "      <th>Shipment Date</th>\n",
       "      <th>Carrier Name &amp; Tracking Number</th>\n",
       "      <th>Item Subtotal</th>\n",
       "      <th>Item Subtotal Tax</th>\n",
       "      <th>Item Total</th>\n",
       "    </tr>\n",
       "  </thead>\n",
       "  <tbody>\n",
       "    <tr>\n",
       "      <th>0</th>\n",
       "      <td>1</td>\n",
       "      <td>2008-02-19</td>\n",
       "      <td>ABIS_BOOK</td>\n",
       "      <td>Amazon.com</td>\n",
       "      <td>NaN</td>\n",
       "      <td>Amazon.com</td>\n",
       "      <td>$29.99</td>\n",
       "      <td>$19.79</td>\n",
       "      <td>1</td>\n",
       "      <td>2008-02-25</td>\n",
       "      <td>USPS</td>\n",
       "      <td>$19.79</td>\n",
       "      <td>$0.00</td>\n",
       "      <td>$19.79</td>\n",
       "    </tr>\n",
       "    <tr>\n",
       "      <th>1</th>\n",
       "      <td>2</td>\n",
       "      <td>2008-02-19</td>\n",
       "      <td>ABIS_BOOK</td>\n",
       "      <td>Amazon.com</td>\n",
       "      <td>NaN</td>\n",
       "      <td>Amazon.com</td>\n",
       "      <td>$27.95</td>\n",
       "      <td>$18.45</td>\n",
       "      <td>1</td>\n",
       "      <td>2008-02-25</td>\n",
       "      <td>USPS</td>\n",
       "      <td>$18.45</td>\n",
       "      <td>$0.00</td>\n",
       "      <td>$18.45</td>\n",
       "    </tr>\n",
       "    <tr>\n",
       "      <th>2</th>\n",
       "      <td>3</td>\n",
       "      <td>2008-06-03</td>\n",
       "      <td>ABIS_BOOK</td>\n",
       "      <td>Amazon.com</td>\n",
       "      <td>NaN</td>\n",
       "      <td>Amazon.com</td>\n",
       "      <td>$34.99</td>\n",
       "      <td>$23.09</td>\n",
       "      <td>1</td>\n",
       "      <td>2008-06-04</td>\n",
       "      <td>UPS</td>\n",
       "      <td>$23.09</td>\n",
       "      <td>$0.00</td>\n",
       "      <td>$23.09</td>\n",
       "    </tr>\n",
       "    <tr>\n",
       "      <th>3</th>\n",
       "      <td>4</td>\n",
       "      <td>2008-11-06</td>\n",
       "      <td>BEAUTY</td>\n",
       "      <td>Amazon.com</td>\n",
       "      <td>NaN</td>\n",
       "      <td>SimplyBeautiful</td>\n",
       "      <td>$6.99</td>\n",
       "      <td>$9.39</td>\n",
       "      <td>1</td>\n",
       "      <td>2008-11-07</td>\n",
       "      <td>USPS</td>\n",
       "      <td>$9.39</td>\n",
       "      <td>$0.00</td>\n",
       "      <td>$9.39</td>\n",
       "    </tr>\n",
       "    <tr>\n",
       "      <th>4</th>\n",
       "      <td>5</td>\n",
       "      <td>2008-11-06</td>\n",
       "      <td>HAIR_STYLING_AGENT</td>\n",
       "      <td>Amazon.com</td>\n",
       "      <td>NaN</td>\n",
       "      <td>SimplyBeautiful</td>\n",
       "      <td>$10.99</td>\n",
       "      <td>$7.99</td>\n",
       "      <td>1</td>\n",
       "      <td>2008-11-07</td>\n",
       "      <td>USPS</td>\n",
       "      <td>$7.99</td>\n",
       "      <td>$0.00</td>\n",
       "      <td>$7.99</td>\n",
       "    </tr>\n",
       "  </tbody>\n",
       "</table>\n",
       "</div>"
      ],
      "text/plain": [
       "   Order ID Order Date            Category     Website Condition  \\\n",
       "0         1 2008-02-19           ABIS_BOOK  Amazon.com       NaN   \n",
       "1         2 2008-02-19           ABIS_BOOK  Amazon.com       NaN   \n",
       "2         3 2008-06-03           ABIS_BOOK  Amazon.com       NaN   \n",
       "3         4 2008-11-06              BEAUTY  Amazon.com       NaN   \n",
       "4         5 2008-11-06  HAIR_STYLING_AGENT  Amazon.com       NaN   \n",
       "\n",
       "            Seller List Price Per Unit Purchase Price Per Unit  Quantity  \\\n",
       "0       Amazon.com             $29.99                  $19.79          1   \n",
       "1       Amazon.com             $27.95                  $18.45          1   \n",
       "2       Amazon.com             $34.99                  $23.09          1   \n",
       "3  SimplyBeautiful              $6.99                   $9.39          1   \n",
       "4  SimplyBeautiful             $10.99                   $7.99          1   \n",
       "\n",
       "  Shipment Date Carrier Name & Tracking Number Item Subtotal  \\\n",
       "0    2008-02-25                           USPS       $19.79    \n",
       "1    2008-02-25                           USPS       $18.45    \n",
       "2    2008-06-04                            UPS       $23.09    \n",
       "3    2008-11-07                           USPS        $9.39    \n",
       "4    2008-11-07                           USPS        $7.99    \n",
       "\n",
       "  Item Subtotal Tax Item Total  \n",
       "0            $0.00     $19.79   \n",
       "1            $0.00     $18.45   \n",
       "2            $0.00     $23.09   \n",
       "3            $0.00      $9.39   \n",
       "4            $0.00      $7.99   "
      ]
     },
     "execution_count": 38,
     "metadata": {},
     "output_type": "execute_result"
    }
   ],
   "source": [
    "# Create dataframe from CSV\n",
    "# parse_dates argument automatically converts data to datetime64\n",
    "\n",
    "df = pd.read_csv(os.path.abspath('amazon_purchases.csv'), parse_dates=['Order Date', 'Shipment Date'])\n",
    "df.head()"
   ]
  },
  {
   "cell_type": "code",
   "execution_count": 39,
   "metadata": {},
   "outputs": [
    {
     "data": {
      "text/plain": [
       "(978, 14)"
      ]
     },
     "execution_count": 39,
     "metadata": {},
     "output_type": "execute_result"
    }
   ],
   "source": [
    "# The dataframe has 978 rows and 14 columns\n",
    "\n",
    "df.shape"
   ]
  },
  {
   "cell_type": "code",
   "execution_count": 40,
   "metadata": {},
   "outputs": [
    {
     "name": "stdout",
     "output_type": "stream",
     "text": [
      "<class 'pandas.core.frame.DataFrame'>\n",
      "RangeIndex: 978 entries, 0 to 977\n",
      "Data columns (total 14 columns):\n",
      " #   Column                          Non-Null Count  Dtype         \n",
      "---  ------                          --------------  -----         \n",
      " 0   Order ID                        978 non-null    int64         \n",
      " 1   Order Date                      978 non-null    datetime64[ns]\n",
      " 2   Category                        896 non-null    object        \n",
      " 3   Website                         978 non-null    object        \n",
      " 4   Condition                       956 non-null    object        \n",
      " 5   Seller                          966 non-null    object        \n",
      " 6   List Price Per Unit             978 non-null    object        \n",
      " 7   Purchase Price Per Unit         978 non-null    object        \n",
      " 8   Quantity                        978 non-null    int64         \n",
      " 9   Shipment Date                   967 non-null    datetime64[ns]\n",
      " 10  Carrier Name & Tracking Number  954 non-null    object        \n",
      " 11  Item Subtotal                   978 non-null    object        \n",
      " 12  Item Subtotal Tax               978 non-null    object        \n",
      " 13  Item Total                      978 non-null    object        \n",
      "dtypes: datetime64[ns](2), int64(2), object(10)\n",
      "memory usage: 107.1+ KB\n"
     ]
    }
   ],
   "source": [
    "# Prices are strings so they must be changed to floats.\n",
    "# Note how dates were changed due to using parse_dates when reading CSV.\n",
    "\n",
    "df.info()"
   ]
  },
  {
   "cell_type": "code",
   "execution_count": 41,
   "metadata": {},
   "outputs": [
    {
     "data": {
      "text/html": [
       "<div>\n",
       "<style scoped>\n",
       "    .dataframe tbody tr th:only-of-type {\n",
       "        vertical-align: middle;\n",
       "    }\n",
       "\n",
       "    .dataframe tbody tr th {\n",
       "        vertical-align: top;\n",
       "    }\n",
       "\n",
       "    .dataframe thead th {\n",
       "        text-align: right;\n",
       "    }\n",
       "</style>\n",
       "<table border=\"1\" class=\"dataframe\">\n",
       "  <thead>\n",
       "    <tr style=\"text-align: right;\">\n",
       "      <th></th>\n",
       "      <th>OrderID</th>\n",
       "      <th>OrderDate</th>\n",
       "      <th>Category</th>\n",
       "      <th>Website</th>\n",
       "      <th>Condition</th>\n",
       "      <th>Seller</th>\n",
       "      <th>ListPricePerUnit</th>\n",
       "      <th>PurchasePricePerUnit</th>\n",
       "      <th>Quantity</th>\n",
       "      <th>ShipDate</th>\n",
       "      <th>Carrier</th>\n",
       "      <th>ItemSubtotal</th>\n",
       "      <th>Tax</th>\n",
       "      <th>ItemTotal</th>\n",
       "    </tr>\n",
       "  </thead>\n",
       "  <tbody>\n",
       "    <tr>\n",
       "      <th>0</th>\n",
       "      <td>1</td>\n",
       "      <td>2008-02-19</td>\n",
       "      <td>ABIS_BOOK</td>\n",
       "      <td>Amazon.com</td>\n",
       "      <td>NaN</td>\n",
       "      <td>Amazon.com</td>\n",
       "      <td>$29.99</td>\n",
       "      <td>$19.79</td>\n",
       "      <td>1</td>\n",
       "      <td>2008-02-25</td>\n",
       "      <td>USPS</td>\n",
       "      <td>$19.79</td>\n",
       "      <td>$0.00</td>\n",
       "      <td>$19.79</td>\n",
       "    </tr>\n",
       "    <tr>\n",
       "      <th>1</th>\n",
       "      <td>2</td>\n",
       "      <td>2008-02-19</td>\n",
       "      <td>ABIS_BOOK</td>\n",
       "      <td>Amazon.com</td>\n",
       "      <td>NaN</td>\n",
       "      <td>Amazon.com</td>\n",
       "      <td>$27.95</td>\n",
       "      <td>$18.45</td>\n",
       "      <td>1</td>\n",
       "      <td>2008-02-25</td>\n",
       "      <td>USPS</td>\n",
       "      <td>$18.45</td>\n",
       "      <td>$0.00</td>\n",
       "      <td>$18.45</td>\n",
       "    </tr>\n",
       "    <tr>\n",
       "      <th>2</th>\n",
       "      <td>3</td>\n",
       "      <td>2008-06-03</td>\n",
       "      <td>ABIS_BOOK</td>\n",
       "      <td>Amazon.com</td>\n",
       "      <td>NaN</td>\n",
       "      <td>Amazon.com</td>\n",
       "      <td>$34.99</td>\n",
       "      <td>$23.09</td>\n",
       "      <td>1</td>\n",
       "      <td>2008-06-04</td>\n",
       "      <td>UPS</td>\n",
       "      <td>$23.09</td>\n",
       "      <td>$0.00</td>\n",
       "      <td>$23.09</td>\n",
       "    </tr>\n",
       "    <tr>\n",
       "      <th>3</th>\n",
       "      <td>4</td>\n",
       "      <td>2008-11-06</td>\n",
       "      <td>BEAUTY</td>\n",
       "      <td>Amazon.com</td>\n",
       "      <td>NaN</td>\n",
       "      <td>SimplyBeautiful</td>\n",
       "      <td>$6.99</td>\n",
       "      <td>$9.39</td>\n",
       "      <td>1</td>\n",
       "      <td>2008-11-07</td>\n",
       "      <td>USPS</td>\n",
       "      <td>$9.39</td>\n",
       "      <td>$0.00</td>\n",
       "      <td>$9.39</td>\n",
       "    </tr>\n",
       "    <tr>\n",
       "      <th>4</th>\n",
       "      <td>5</td>\n",
       "      <td>2008-11-06</td>\n",
       "      <td>HAIR_STYLING_AGENT</td>\n",
       "      <td>Amazon.com</td>\n",
       "      <td>NaN</td>\n",
       "      <td>SimplyBeautiful</td>\n",
       "      <td>$10.99</td>\n",
       "      <td>$7.99</td>\n",
       "      <td>1</td>\n",
       "      <td>2008-11-07</td>\n",
       "      <td>USPS</td>\n",
       "      <td>$7.99</td>\n",
       "      <td>$0.00</td>\n",
       "      <td>$7.99</td>\n",
       "    </tr>\n",
       "  </tbody>\n",
       "</table>\n",
       "</div>"
      ],
      "text/plain": [
       "   OrderID  OrderDate            Category     Website Condition  \\\n",
       "0        1 2008-02-19           ABIS_BOOK  Amazon.com       NaN   \n",
       "1        2 2008-02-19           ABIS_BOOK  Amazon.com       NaN   \n",
       "2        3 2008-06-03           ABIS_BOOK  Amazon.com       NaN   \n",
       "3        4 2008-11-06              BEAUTY  Amazon.com       NaN   \n",
       "4        5 2008-11-06  HAIR_STYLING_AGENT  Amazon.com       NaN   \n",
       "\n",
       "            Seller ListPricePerUnit PurchasePricePerUnit  Quantity   ShipDate  \\\n",
       "0       Amazon.com          $29.99               $19.79          1 2008-02-25   \n",
       "1       Amazon.com          $27.95               $18.45          1 2008-02-25   \n",
       "2       Amazon.com          $34.99               $23.09          1 2008-06-04   \n",
       "3  SimplyBeautiful           $6.99                $9.39          1 2008-11-07   \n",
       "4  SimplyBeautiful          $10.99                $7.99          1 2008-11-07   \n",
       "\n",
       "  Carrier ItemSubtotal     Tax ItemTotal  \n",
       "0    USPS      $19.79   $0.00    $19.79   \n",
       "1    USPS      $18.45   $0.00    $18.45   \n",
       "2     UPS      $23.09   $0.00    $23.09   \n",
       "3    USPS       $9.39   $0.00     $9.39   \n",
       "4    USPS       $7.99   $0.00     $7.99   "
      ]
     },
     "execution_count": 41,
     "metadata": {},
     "output_type": "execute_result"
    }
   ],
   "source": [
    "# Rename columns to remove spaces.\n",
    "df.columns = df.columns.str.replace(' ', '')\n",
    "\n",
    "# Rename specific columns.\n",
    "df = df.rename(\n",
    "    columns = {\n",
    "        'CarrierName&TrackingNumber':'Carrier', \n",
    "        'ItemSubtotalTax':'Tax', \n",
    "        'ShipmentDate':'ShipDate'\n",
    "    }\n",
    ")\n",
    "df.head()"
   ]
  },
  {
   "cell_type": "code",
   "execution_count": 42,
   "metadata": {},
   "outputs": [],
   "source": [
    "# Drop unnecessary columns\n",
    "\n",
    "del df['Website']"
   ]
  },
  {
   "cell_type": "code",
   "execution_count": 43,
   "metadata": {},
   "outputs": [
    {
     "data": {
      "text/plain": [
       "OrderID                  0\n",
       "OrderDate                0\n",
       "Category                82\n",
       "Condition               22\n",
       "Seller                  12\n",
       "ListPricePerUnit         0\n",
       "PurchasePricePerUnit     0\n",
       "Quantity                 0\n",
       "ShipDate                11\n",
       "Carrier                 24\n",
       "ItemSubtotal             0\n",
       "Tax                      0\n",
       "ItemTotal                0\n",
       "dtype: int64"
      ]
     },
     "execution_count": 43,
     "metadata": {},
     "output_type": "execute_result"
    }
   ],
   "source": [
    "# Count NaN occurances\n",
    "\n",
    "df.isna().sum()"
   ]
  },
  {
   "cell_type": "code",
   "execution_count": 44,
   "metadata": {},
   "outputs": [],
   "source": [
    "# Replace NaN\n",
    "\n",
    "df.Category.fillna('unknown', inplace = True)\n",
    "df.Condition.fillna('unknown', inplace = True)\n",
    "df.Carrier.fillna('unknown', inplace = True)\n",
    "df.Seller.fillna('unknown', inplace = True)"
   ]
  },
  {
   "cell_type": "code",
   "execution_count": 45,
   "metadata": {},
   "outputs": [
    {
     "data": {
      "text/plain": [
       "114"
      ]
     },
     "execution_count": 45,
     "metadata": {},
     "output_type": "execute_result"
    }
   ],
   "source": [
    "# We have too many categories so let's reduce them for simpler analysis.\n",
    "\n",
    "df['Category'].nunique()"
   ]
  },
  {
   "cell_type": "code",
   "execution_count": 46,
   "metadata": {},
   "outputs": [
    {
     "data": {
      "text/plain": [
       "array(['ABIS_BOOK', 'BEAUTY', 'HAIR_STYLING_AGENT', 'unknown',\n",
       "       'HEALTH_PERSONAL_CARE', 'OUTDOOR_RECREATION_PRODUCT',\n",
       "       'NETWORKING_DEVICE', 'COMPUTER_DRIVE_OR_STORAGE', 'COMPUTER',\n",
       "       'BATTERY', 'COMPUTER_COMPONENT', 'MULTIFUNCTION_DEVICE',\n",
       "       'OUTDOOR_LIVING', 'OFFICE_PRODUCTS', 'CABLE_OR_ADAPTER', 'GROCERY',\n",
       "       'HOME', 'COMPUTER_INPUT_DEVICE', 'KEYBOARDS', 'COMPUTER_ADD_ON',\n",
       "       'PERSONAL_CARE_APPLIANCE', 'KITCHEN', 'FLASH_MEMORY',\n",
       "       'NOTEBOOK_COMPUTER', 'MEMORY_READER', 'AMAZON_BOOK_READER',\n",
       "       'WIRELESS_ACCESSORY', 'TOOLS', 'PROFESSIONAL_HEALTHCARE',\n",
       "       'ELECTRONIC_CABLE', 'RAM_MEMORY', 'SEEDS_AND_PLANTS',\n",
       "       'ABIS_GIFT_CARD', 'INK_OR_TONER', 'SOFTWARE',\n",
       "       'SURVEILANCE_SYSTEMS', 'SECURITY_CAMERA', 'SCANNER', 'MONITOR',\n",
       "       'HOME_LIGHTING_ACCESSORY', 'SOCKSHOSIERY', 'SHIRT', 'CAMCORDER',\n",
       "       'ART_AND_CRAFT_SUPPLY', 'POWER_SUPPLIES_OR_PROTECTION', 'TUNER',\n",
       "       'CELLULAR_PHONE', 'CONSUMER_ELECTRONICS', 'HARDWARE',\n",
       "       'ABIS_DRUGSTORE', 'HEADPHONES', 'SHAMPOO', 'COFFEE', 'PRINTER',\n",
       "       'SCREWDRIVER', 'SHOES', 'SPEAKERS', 'ABIS_DVD',\n",
       "       'CAMERA_OTHER_ACCESSORIES', 'TABLET_COMPUTER', 'SPORTING_GOODS',\n",
       "       'BUILDING_MATERIAL', 'CE_CARRYING_CASE_OR_BAG', 'CHARGING_ADAPTER',\n",
       "       'TOYS_AND_GAMES', 'CELLULAR_PHONE_CASE', 'NETWORKING_ROUTER',\n",
       "       'HOME_LIGHTING_AND_LAMPS', 'ELECTRIC_FAN', 'BACKPACK',\n",
       "       'CE_ACCESSORY', 'COFFEE_MAKER', 'ELECTRONIC_ADAPTER',\n",
       "       'ABIS_ELECTRONICS', 'CARRYING_CASE_OR_BAG', 'HANDHELD_OR_PDA',\n",
       "       'AUTO_ACCESSORY', 'CAR_ALARM', 'BOTTLE', 'OUTERWEAR', 'APPAREL',\n",
       "       'PANTS', 'HAT', 'PHONE_ACCESSORY', 'ACCESSORY', 'LAB_SUPPLY',\n",
       "       'LUGGAGE', 'DOWNLOADABLE_VIDEO_GAME', 'BISS', 'BAG',\n",
       "       'HOME_BED_AND_BATH', 'AUTO_PART', 'VITAMIN',\n",
       "       'BOOKS_1973_AND_LATER', 'ABIS_DOWNLOADABLE_SOFTWARE', 'SHORTS',\n",
       "       'SYSTEM_POWER_DEVICE', 'DIETARY_SUPPLEMENTS', 'TEA', 'WATCH',\n",
       "       'TABLECLOTH', 'ABIS_MUSIC', 'PAPER_PRODUCT', 'PRECISION_MEASURING',\n",
       "       'PET_SUPPLIES', 'AV_FURNITURE', 'CADDY', 'SWEATSHIRT',\n",
       "       'MECHANICAL_COMPONENTS', 'TECHNICAL_SPORT_SHOE',\n",
       "       'WRITING_INSTRUMENT', 'ACCESSORY_OR_PART_OR_SUPPLY',\n",
       "       'SMALL_HOME_APPLIANCES', 'UNDERWEAR'], dtype=object)"
      ]
     },
     "execution_count": 46,
     "metadata": {},
     "output_type": "execute_result"
    }
   ],
   "source": [
    "df['Category'].unique()"
   ]
  },
  {
   "cell_type": "code",
   "execution_count": 47,
   "metadata": {},
   "outputs": [],
   "source": [
    "# Combine categories\n",
    "\n",
    "df['Category'] = df['Category'].replace(['NOTEBOOK_COMPUTER','COMPUTER_DRIVE_OR_STORAGE','RAM_MEMORY','TABLET_COMPUTER','MONITOR','COMPUTER_COMPONENT', 'FLASH_MEMORY', 'SOFTWARE', 'INK_OR_TONER', 'COMPUTER_INPUT_DEVICE', 'CABLE_OR_ADAPTER', 'NETWORKING_DEVICE', 'KEYBOARDS', 'COMPUTER_ADD_ON', 'NETWORKING_ROUTER','MEMORY_READER','WIRELESS_ACCESSORY','SCANNER','PRINTER', 'ABIS_DOWNLOADABLE_SOFTWARE'],'COMPUTER')\n",
    "df['Category'] = df['Category'].replace(['HEADPHONES','SPEAKERS','BATTERY','MULTIFUNCTION_DEVICE','ELECTRONIC_CABLE','SURVEILANCE_SYSTEMS','SECURITY_CAMERA','WATCH','CONSUMER_ELECTRONICS','CE_ACCESSORY','ELECTRONIC_ADAPTER','ELECTRIC_FAN','CAMCORDER','HANDHELD_OR_PDA','TUNER','AMAZON_BOOK_READER','CELLULAR_PHONE','POWER_SUPPLIES_OR_PROTECTION','CAMERA_OTHER_ACCESSORIES','CHARGING_ADAPTER', 'ABIS_ELECTRONICS', 'SYSTEM_POWER_DEVICE'],'ELECTRONICS')\n",
    "df['Category'] = df['Category'].replace(['HAIR_STYLING_AGENT','PERSONAL_CARE_APPLIANCE','PROFESSIONAL_HEALTHCARE','HEALTH_PERSONAL_CARE','SHAMPOO','VITAMIN','ABIS_DRUGSTORE','BEAUTY', 'DIETARY_SUPPLEMENTS'],'HEALTH_BEAUTY')\n",
    "df['Category'] = df['Category'].replace(['KITCHEN','SEEDS_AND_PLANTS','HOME_LIGHTING_ACCESSORY','BOTTLE','OUTDOOR_LIVING','ELECTRIC_FAN','TABLECLOTH','COFFEE_MAKER','HOME_BED_AND_BATH','HOME_LIGHTING_AND_LAMPS','SMALL_HOME_APPLIANCES'],'HOME')\n",
    "df['Category'] = df['Category'].replace(['SHOES','PANTS','SHIRT','SHORTS','OUTERWEAR','SWEATSHIRT','HAT', 'SOCKSHOSIERY','UNDERWEAR','TECHNICAL_SPORT_SHOE'],'APPAREL')\n",
    "df['Category'] = df['Category'].replace(['OUTDOOR_RECREATION_PRODUCT','SPORTING_GOODS'],'SPORTS_OUTDOOR')\n",
    "df['Category'] = df['Category'].replace(['TEA','COFFEE'],'GROCERY')\n",
    "df['Category'] = df['Category'].replace(['AUTO_PART','HARDWARE','AUTO_ACESSORY','PRECISION_MEASURING','BUILDING_MATERIAL','AUTO_ACCESSORY', 'SCREWDRIVER', 'CAR_ALARM', 'MECHANICAL_COMPONENTS', 'TOOLS'],'AUTO_TOOLS')\n",
    "df['Category'] = df['Category'].replace(['WRITING_INSTRUMENT','PAPER_PRODUCT','BACKPACK','CARRYING_CASE_OR_BAG','CE_CARRYING_CASE_OR_BAG','OFFICE_PRODUCTS'],'OFFICE')\n",
    "df['Category'] = df['Category'].replace(['ABIS_DVD','TOYS_AND_GAMES','ABIS_MUSIC','DOWNLOADABLE_VIDEO_GAME','ART_AND_CRAFT_SUPPLY'],'ENTERTAINMENT')\n",
    "df['Category'] = df['Category'].replace(['ABIS_BOOK', 'BOOKS_1973_AND_LATER'],'BOOKS')\n",
    "df['Category'] = df['Category'].replace(['AV_FURNITURE','CELLULAR_PHONE_CASE','PHONE_ACCESSORY','PET_SUPPLIES','ACCESSORY','BAG','ACCESSORY_OR_PART_OR_SUPPLY', 'LUGGAGE', 'LAB_SUPPLY', 'CADDY', 'ABIS_GIFT_CARD', 'BISS'],'OTHER')\n",
    "df['Category'] = df['Category'].replace(['','unknown'],'UNKNOWN')"
   ]
  },
  {
   "cell_type": "code",
   "execution_count": 48,
   "metadata": {},
   "outputs": [
    {
     "data": {
      "text/plain": [
       "COMPUTER          190\n",
       "HEALTH_BEAUTY     182\n",
       "HOME              103\n",
       "ELECTRONICS        89\n",
       "UNKNOWN            82\n",
       "APPAREL            70\n",
       "BOOKS              68\n",
       "OTHER              57\n",
       "AUTO_TOOLS         45\n",
       "SPORTS_OUTDOOR     31\n",
       "OFFICE             31\n",
       "GROCERY            24\n",
       "ENTERTAINMENT       6\n",
       "Name: Category, dtype: int64"
      ]
     },
     "execution_count": 48,
     "metadata": {},
     "output_type": "execute_result"
    }
   ],
   "source": [
    "# Categories have been reduced\n",
    "\n",
    "df['Category'].value_counts()"
   ]
  },
  {
   "cell_type": "code",
   "execution_count": 49,
   "metadata": {},
   "outputs": [
    {
     "data": {
      "text/plain": [
       "Computer            190\n",
       "Health & Beauty     182\n",
       "Home                103\n",
       "Electronics          89\n",
       "Unknown              82\n",
       "Apparel              70\n",
       "Books                68\n",
       "Other                57\n",
       "Auto & Tools         45\n",
       "Sports & Outdoor     31\n",
       "Office               31\n",
       "Grocery              24\n",
       "Entertainment         6\n",
       "Name: Category, dtype: int64"
      ]
     },
     "execution_count": 49,
     "metadata": {},
     "output_type": "execute_result"
    }
   ],
   "source": [
    "# Fix formatting for category names\n",
    "\n",
    "df['Category'] = df['Category'].str.replace('_', ' & ').str.title()\n",
    "df.Category.value_counts()"
   ]
  },
  {
   "cell_type": "code",
   "execution_count": 50,
   "metadata": {},
   "outputs": [
    {
     "data": {
      "text/plain": [
       "array(['unknown', 'new', 'used verygood', 'used good', 'used mint'],\n",
       "      dtype=object)"
      ]
     },
     "execution_count": 50,
     "metadata": {},
     "output_type": "execute_result"
    }
   ],
   "source": [
    "# Simplify Condition column\n",
    "\n",
    "df.Condition.unique()"
   ]
  },
  {
   "cell_type": "code",
   "execution_count": 51,
   "metadata": {},
   "outputs": [],
   "source": [
    "used = ['used verygood', 'used good', 'used mint']\n",
    "\n",
    "df.loc[df.Condition.isin(used), 'Condition'] = 'Used'\n",
    "df.loc[df.Condition == 'unknown', 'Condition'] = 'Unknown'\n",
    "df.Condition = df.Condition.replace('new', 'New')"
   ]
  },
  {
   "cell_type": "code",
   "execution_count": 52,
   "metadata": {},
   "outputs": [
    {
     "data": {
      "text/plain": [
       "array(['Unknown', 'New', 'Used'], dtype=object)"
      ]
     },
     "execution_count": 52,
     "metadata": {},
     "output_type": "execute_result"
    }
   ],
   "source": [
    "# Condition column has been reduced to 3 entries\n",
    "\n",
    "df.Condition.unique()"
   ]
  },
  {
   "cell_type": "code",
   "execution_count": 53,
   "metadata": {},
   "outputs": [
    {
     "data": {
      "text/plain": [
       "array(['Amazon.com', 'SimplyBeautiful', 'Nature and Herbs', 'tabletopart',\n",
       "       'Hutsell Sports, LLC', 'Super Safety Razors', 'SquareTrade',\n",
       "       'SB Natural Products', 'Wellica Inc', 'Hahnemann Laboratories',\n",
       "       'BarleyBlends', 'unknown', 'Black Tie Mercantile',\n",
       "       'Maple Leaf Nutrition', 'AmeriMed Direct', 'VapeNow', '365USA',\n",
       "       'DAB Unlimited', 'MYBATTERYSUPPLIER', 'SafetyRazorPlace',\n",
       "       'Importer520  ( USA Seller )', 'Pro Ebiz', 'BoBotechnic',\n",
       "       'The Vitamin Shoppe', 'Amazing Deals Online', 'BestDealUSA',\n",
       "       'pumpstonbooks', 'HTS USA', 'ACC Stop', 'Handy Housewares',\n",
       "       'NutriPlusTea', 'Cheap Seeds', 'WOWparts', 'TheSmartDigital',\n",
       "       'Nutricity', 'Creative Square', 'J&R Music and Computer World',\n",
       "       'Thousandshores Inc', 'Warehouseseller', 'VCT ELECTRONICS',\n",
       "       'Instapark', 'American Direct Wholesale', 'Sox Shop',\n",
       "       'Sneakers Seekers', 'MyOfficeInnovations', 'Kinobo', 'Jed Mart',\n",
       "       'TRAVEL COMMODITY', 'Great Goods, Inc.', 'GOOD BUY NY',\n",
       "       'LuggageGuru', 'AmazonWireless', 'FragranceNet',\n",
       "       'Best Deal Supply', 'CONTINENTAL SUPPLY',\n",
       "       'Goodwill Charlotte Books', 'AmericaRx', 'SafetyFast',\n",
       "       'Green Web Inc', 'textbooksnow-', 'Cmple com', 'POWERGEN',\n",
       "       'NY Supply', 'SF Planet', 'BlueRigger', 'NorthShore Care Supply',\n",
       "       'eBusinessCables, Inc.', 'HitTimeStore', 'Cheerwing USA',\n",
       "       'Value Max', 'Royal Store', 'Overstocks Closeout', 'SourceMedia',\n",
       "       'Shop Cellar', 'LastWorld', 'mimogram', 'Books@Speed',\n",
       "       'Book_Holders', 'Cosmos Tech&Leisure', 'niceeshop', 'FixFind',\n",
       "       'Gossamer Blue', 'POTENT_SKINCARE', 'Undercover Condoms',\n",
       "       'TOTAL LINE', 'GrabAGun', 'ZogoSportz', 'Brian Enos Inc',\n",
       "       'MIS Outdoors', 'Tuccini', 'BSCstore', 'Life and Home',\n",
       "       'Can I Cell You Something', \"YAN's warehouse\", 'CCMACCESSORIES',\n",
       "       'American Tactical', 'Everything Overstock', 'Onix Venture Group',\n",
       "       'Rock Ridge Sales, Inc',\n",
       "       'AmaMax (USA) Since 1993 l iMBAPrice¬Æ Authorized Distributor',\n",
       "       'Comfytopia, Inc', 'BuyBelowSale', 'Cool Stuff Place', '1D4US',\n",
       "       'Komputerbay', 'SELL BELOW COST', 'Plugable Technologies',\n",
       "       'BuyHerbs', '2020Products', 'Panda Town(Ships From Hongkong)',\n",
       "       'AnkerDirect', 'Eforcity', 'KINGMAS', 'Innovationstore', 'HDE',\n",
       "       'Maxxima', 'Space with Taste', 'JR Mushrooms & Specialties',\n",
       "       'JacobsParts', 'HitLights', 'Amnergy', 'Best Home Fashion',\n",
       "       'OutletPC', 'Cable Matters', 'GO Carol', 'V I V O',\n",
       "       'Anything Powersports', 'mnpkits', 'ThriftBooks - Sierra Nevada',\n",
       "       'Hartop Direct', 'Everydaysource', 'Better World Books',\n",
       "       'excelsior60', 'G2LIFE', 'Ebuy4less', 'High Sierra Store',\n",
       "       'Wow N.P.', 'apex_media', 'California Tools LLC',\n",
       "       'DARYA TRADING INC', 'Fanmis Watch', 'Equinox Int', 'Kuldip LTD',\n",
       "       'Go Commando Gear', 'Deerso',\n",
       "       'BQLZR(7-20 days delivery,Fast and free shippingÔºågreat customer service)',\n",
       "       'FishingForDeals', 'DeNA', 'Micro-Tools', 'Torero Corporation',\n",
       "       'greenlight wholesaler', 'La Belle B Supply',\n",
       "       'Amazon.com Services LLC',\n",
       "       'dzt1968 ‚òÄChristmas discounts up to 90%', 'ColorYourLife',\n",
       "       'VicTsingDirect', 'ToolMall', 'Wireless Experts, Inc.',\n",
       "       'Open Bay Trading Co.', 'Patozon', 'BIGFLY', 'TriStateValue',\n",
       "       'Insole Dept', 'Match_Garments', 'Naturtint USA',\n",
       "       'Owls Book Sales', 'Used Books Outlet', 'ThriftBooks - Squared',\n",
       "       'PremiumBatteries', 'indoobestsellers', '4books7',\n",
       "       'ThriftBooks - Silver Arch', 'Housing Works Online Bookstore',\n",
       "       'SUNDANCE Beauty', 'BigHeartedBooks', 'Juni.0614',\n",
       "       'ThriftBooks - Yankee Clipper', 'Holistic Distribution',\n",
       "       'BuyGreatStuff', 'KabelDirekt Products', 'KashTechnology', 'iXCC',\n",
       "       'ThriftBooks - Motor City', 'aLLreLi', 'Hippidion.US.Store',\n",
       "       'ePest', 'DRSKIN SPORTS USA.', 'Stakich Inc',\n",
       "       'Big Illusion Jewelry Pack', 'Plant Guru Inc.',\n",
       "       '10 Dollar Wholesale', 'BlueMart', 'Warmen Gloves', 'Mosa Home',\n",
       "       'Caseology Official Store', 'Store4PC', 'Maubi Health',\n",
       "       'Big Blue Supplies', 'EAmazing', 'Inateck Online', 'AllSmartLife',\n",
       "       'Claybox Limited US', 'Fittest Pro USA', 'Teslagear USA',\n",
       "       'Nutri Catalog', 'OneCountryShop Inc', 'S Gear',\n",
       "       'Swanson Health Products', 'GoBetter Official', 'Teslagear Inc.',\n",
       "       'Together-Bottle', 'Cimo', 'Better Shea Butter', 'GeeG', 'A M K',\n",
       "       'Carry Green', 'LightMe-US', \"Dr. Price's Vitamins\", 'LotFancy',\n",
       "       'bestforus', 'Logosbooks 777', 'SHOEBACCA', 'GNC', 'The Chestnut',\n",
       "       'Essential Oil Labs', 'ZANE HELLAS MED', 'Precision Naturals',\n",
       "       'ZQUARED', 'Best Nest Wellness', 'KinderFluff', \"Mitch's List\",\n",
       "       'BeautyBreeze', 'Beauty drive', 'Ceptics Direct', 'Etekcity',\n",
       "       'Leader Accessories', 'Maple Prime', 'Chelsea Lane Bodywear',\n",
       "       'Left Coast Performance', 'ECO-FUSED', 'JP&M', 'AMIR Direct',\n",
       "       'LePower', 'LE US', 'Paisle Botanics‚Ñ¢', 'Wild Thera',\n",
       "       'Vaultskin US', 'MagSol Organics', 'Pure Wellness Rx',\n",
       "       'MetaRetail', 'My Shoe Supplies', 'OptiLingo', 'RAINBOW ABBY',\n",
       "       'Meinsa', 'Benair', 'lolitech', 'YiChuangLian', 'Drillbrush',\n",
       "       'HOMKOM', 'SAMZHE', 'G-Union Group Limted',\n",
       "       'Quality Producer Direct', 'Husky Mounts', 'SunmnDirect',\n",
       "       'Golden Sport', 'Yocice', 'chengmenghe',\n",
       "       'LIEBIRD Rubber Products Factory', 'AUKEY Store US',\n",
       "       'Linsoul Audio', 'Gambolex US', 'ZIZON', 'EntirelySkin, LLC',\n",
       "       'Baetea', 'MD Medical LLC', 'Ruky Direct', 'EPFamily Direct',\n",
       "       'Engoloids Medical LLC', 'iVanky', 'NutriRise', 'Spring of Health',\n",
       "       'wel-image', 'B2C Industries', 'iAesthete Store', 'Spotless Lens',\n",
       "       'LittleCoolingStore', 'Ztotop-US', 'SLGI', 'Seeml Labs',\n",
       "       'alwayz-on-sale', 'Spigen Inc', 'OUWEI Direct', 'Artistry Store',\n",
       "       'Century_Six', 'Sooez Official', 'APLANET',\n",
       "       'Bargain Paradise Corp', 'Guruji Store',\n",
       "       'FLEXX International Ltd UK', 'ComegaCity', 'Coinkosz',\n",
       "       'SimpleBreeze', 'Amazing Camel', 'Tablet2Cases',\n",
       "       'Ancient Nutrition', 'TONGZHU', 'BC Wear', 'frt ECLTD',\n",
       "       'Sintech adapter', 'Ancestral Supplements, LLC', 'Change Tree',\n",
       "       'XJS', 'Ipow Online', 'VICSEED', 'MKOAWA', 'TORRAS¬Æ',\n",
       "       \"MJ's Herbals\"], dtype=object)"
      ]
     },
     "execution_count": 53,
     "metadata": {},
     "output_type": "execute_result"
    }
   ],
   "source": [
    "# Simplify Seller column\n",
    "\n",
    "df.Seller.unique()"
   ]
  },
  {
   "cell_type": "code",
   "execution_count": 54,
   "metadata": {},
   "outputs": [
    {
     "data": {
      "text/plain": [
       "array(['Amazon.com', 'AmazonWireless', 'Amazon.com Services LLC'],\n",
       "      dtype=object)"
      ]
     },
     "execution_count": 54,
     "metadata": {},
     "output_type": "execute_result"
    }
   ],
   "source": [
    "df.loc[df.Seller.str.contains('amazon', case=False), 'Seller'].unique()"
   ]
  },
  {
   "cell_type": "code",
   "execution_count": 55,
   "metadata": {},
   "outputs": [],
   "source": [
    "seller_amazon = ['Amazon.com', 'AmazonWireless', 'Amazon.com Services LLC', 'Amazon']\n",
    "\n",
    "df.loc[df.Seller.isin(seller_amazon), 'Seller'] = 'Amazon'\n",
    "df.loc[~df.Seller.isin(seller_amazon), 'Seller'] = 'Third Party'"
   ]
  },
  {
   "cell_type": "code",
   "execution_count": 56,
   "metadata": {},
   "outputs": [
    {
     "data": {
      "text/plain": [
       "array(['Amazon', 'Third Party'], dtype=object)"
      ]
     },
     "execution_count": 56,
     "metadata": {},
     "output_type": "execute_result"
    }
   ],
   "source": [
    "# Seller column has been reduced to 2 entries\n",
    "\n",
    "df.Seller.unique()"
   ]
  },
  {
   "cell_type": "code",
   "execution_count": 57,
   "metadata": {},
   "outputs": [
    {
     "data": {
      "text/plain": [
       "array(['USPS', 'UPS', 'FEDEX', 'UPS MI', 'unknown', 'ONTRAC',\n",
       "       'UPS Mail Innovations', 'Mail Innovations', 'FedEx SmartPost',\n",
       "       'FedEx', 'US Postal Service', 'DHL Global Mail', 'OTHER',\n",
       "       'China Post', 'DHL', 'HK  POST', 'DHL Global Mail,DHL Global Mail',\n",
       "       'SMARTPOST', 'LASERSHIP', 'HK POST', '4PX', 'Royal Mail',\n",
       "       'Hong Kong Post', 'Hongkong', 'Other', 'AMZN_US', 'OSM',\n",
       "       'Newgistics', 'Yun Express'], dtype=object)"
      ]
     },
     "execution_count": 57,
     "metadata": {},
     "output_type": "execute_result"
    }
   ],
   "source": [
    "# Simplify Carrier column\n",
    "\n",
    "df['Carrier'].unique()"
   ]
  },
  {
   "cell_type": "code",
   "execution_count": 58,
   "metadata": {},
   "outputs": [],
   "source": [
    "# Combine carriers to eliminate repitition\n",
    "\n",
    "df['Carrier'] = df['Carrier'].replace('FEDEX', 'FedEx')\n",
    "df['Carrier'] = df['Carrier'].replace('SMARTPOST', 'FedEx SmartPost')\n",
    "df['Carrier'] = df['Carrier'].replace('Mail Innovations','UPS Mail Innovations')\n",
    "df['Carrier'] = df['Carrier'].replace('UPS MI','UPS Mail Innovations')\n",
    "df['Carrier'] = df['Carrier'].replace('US Postal Service','USPS')\n",
    "df['Carrier'] = df['Carrier'].replace('DHL Global Mail','DHL')\n",
    "df['Carrier'] = df['Carrier'].replace('US Postal Service','USPS')\n",
    "df['Carrier'] = df['Carrier'].replace('AMZN_US', 'AMZN')"
   ]
  },
  {
   "cell_type": "code",
   "execution_count": 59,
   "metadata": {},
   "outputs": [],
   "source": [
    "mail = ['USPS', 'UPS', 'UPS Mail Innovations', 'FedEx', 'FedEx SmartPost', 'DHL', 'AMZN']\n",
    "df.loc[~df.Carrier.isin(mail), 'Carrier'] = 'Other'"
   ]
  },
  {
   "cell_type": "code",
   "execution_count": 60,
   "metadata": {},
   "outputs": [
    {
     "data": {
      "text/plain": [
       "USPS                    337\n",
       "AMZN                    278\n",
       "UPS                     187\n",
       "Other                   127\n",
       "FedEx                    24\n",
       "DHL                      12\n",
       "FedEx SmartPost           8\n",
       "UPS Mail Innovations      5\n",
       "Name: Carrier, dtype: int64"
      ]
     },
     "execution_count": 60,
     "metadata": {},
     "output_type": "execute_result"
    }
   ],
   "source": [
    "# Carrier column has been simplified\n",
    "\n",
    "df['Carrier'].value_counts()"
   ]
  },
  {
   "cell_type": "code",
   "execution_count": 61,
   "metadata": {},
   "outputs": [],
   "source": [
    "# Remove $ and , from price columns\n",
    "\n",
    "df['ListPricePerUnit'] = df['ListPricePerUnit'].str.replace('$','').str.replace(',','')\n",
    "df['PurchasePricePerUnit'] = df['PurchasePricePerUnit'].str.replace('$','').str.replace(',','')\n",
    "df['ItemSubtotal'] = df['ItemSubtotal'].str.replace('$','').str.replace(',','')\n",
    "df['Tax'] = df['Tax'].str.replace('$','').str.replace(',','')\n",
    "df['ItemTotal'] = df['ItemTotal'].str.replace('$','').str.replace(',','')"
   ]
  },
  {
   "cell_type": "code",
   "execution_count": 62,
   "metadata": {},
   "outputs": [],
   "source": [
    "# Convert price columns to float\n",
    "\n",
    "df['ListPricePerUnit'] = df['ListPricePerUnit'].astype(float)\n",
    "df['PurchasePricePerUnit'] = df['PurchasePricePerUnit'].astype(float)\n",
    "df['ItemSubtotal'] = df['ItemSubtotal'].astype(float)\n",
    "df['Tax'] = df['Tax'].astype(float)\n",
    "df['ItemTotal'] = df['ItemTotal'].astype(float)"
   ]
  },
  {
   "cell_type": "code",
   "execution_count": 63,
   "metadata": {},
   "outputs": [],
   "source": [
    "# Drop rows with zero prices\n",
    "\n",
    "df = df[df.ListPricePerUnit != 0]\n",
    "df = df[df.PurchasePricePerUnit != 0]\n",
    "df = df[df.ItemSubtotal != 0]\n",
    "df = df[df.ItemTotal != 0]"
   ]
  },
  {
   "cell_type": "code",
   "execution_count": 64,
   "metadata": {},
   "outputs": [
    {
     "data": {
      "text/plain": [
       "(783, 13)"
      ]
     },
     "execution_count": 64,
     "metadata": {},
     "output_type": "execute_result"
    }
   ],
   "source": [
    "# Previously, we had 978 rows and now we have 783. \n",
    "\n",
    "df.shape"
   ]
  },
  {
   "cell_type": "code",
   "execution_count": 65,
   "metadata": {},
   "outputs": [],
   "source": [
    "# Change date columns to date objects.\n",
    "# These commands would be used had we not parsed it dates when reading the csv.\n",
    "# df_main['OrderDate'] = pd.to_datetime(df_main['OrderDate'])\n",
    "# df_main['ShipDate'] = pd.to_datetime(df_main['ShipDate'])"
   ]
  },
  {
   "cell_type": "code",
   "execution_count": 66,
   "metadata": {},
   "outputs": [
    {
     "data": {
      "text/plain": [
       "OrderID                          int64\n",
       "OrderDate               datetime64[ns]\n",
       "Category                        object\n",
       "Condition                       object\n",
       "Seller                          object\n",
       "ListPricePerUnit               float64\n",
       "PurchasePricePerUnit           float64\n",
       "Quantity                         int64\n",
       "ShipDate                datetime64[ns]\n",
       "Carrier                         object\n",
       "ItemSubtotal                   float64\n",
       "Tax                            float64\n",
       "ItemTotal                      float64\n",
       "dtype: object"
      ]
     },
     "execution_count": 66,
     "metadata": {},
     "output_type": "execute_result"
    }
   ],
   "source": [
    "df.dtypes"
   ]
  },
  {
   "cell_type": "code",
   "execution_count": 67,
   "metadata": {},
   "outputs": [],
   "source": [
    "# Extract year, month, & day and store them in columns in df_main\n",
    "\n",
    "df['OrderYear'] = df['OrderDate'].dt.year\n",
    "df['OrderMonth'] = df['OrderDate'].dt.month\n",
    "df['OrderDay'] = df['OrderDate'].dt.day\n",
    "df['OrderDayIndex'] = df['OrderDate'].dt.dayofweek\n",
    "df['OrderDayName'] = df['OrderDate'].dt.day_name()"
   ]
  },
  {
   "cell_type": "code",
   "execution_count": 68,
   "metadata": {},
   "outputs": [
    {
     "data": {
      "text/html": [
       "<div>\n",
       "<style scoped>\n",
       "    .dataframe tbody tr th:only-of-type {\n",
       "        vertical-align: middle;\n",
       "    }\n",
       "\n",
       "    .dataframe tbody tr th {\n",
       "        vertical-align: top;\n",
       "    }\n",
       "\n",
       "    .dataframe thead th {\n",
       "        text-align: right;\n",
       "    }\n",
       "</style>\n",
       "<table border=\"1\" class=\"dataframe\">\n",
       "  <thead>\n",
       "    <tr style=\"text-align: right;\">\n",
       "      <th></th>\n",
       "      <th>OrderID</th>\n",
       "      <th>OrderDate</th>\n",
       "      <th>Category</th>\n",
       "      <th>Condition</th>\n",
       "      <th>Seller</th>\n",
       "      <th>ListPricePerUnit</th>\n",
       "      <th>PurchasePricePerUnit</th>\n",
       "      <th>Quantity</th>\n",
       "      <th>ShipDate</th>\n",
       "      <th>Carrier</th>\n",
       "      <th>ItemSubtotal</th>\n",
       "      <th>Tax</th>\n",
       "      <th>ItemTotal</th>\n",
       "      <th>OrderYear</th>\n",
       "      <th>OrderMonth</th>\n",
       "      <th>OrderDay</th>\n",
       "      <th>OrderDayIndex</th>\n",
       "      <th>OrderDayName</th>\n",
       "    </tr>\n",
       "  </thead>\n",
       "  <tbody>\n",
       "    <tr>\n",
       "      <th>969</th>\n",
       "      <td>970</td>\n",
       "      <td>2019-12-14</td>\n",
       "      <td>Computer</td>\n",
       "      <td>New</td>\n",
       "      <td>Amazon</td>\n",
       "      <td>44.99</td>\n",
       "      <td>21.88</td>\n",
       "      <td>1</td>\n",
       "      <td>2019-12-15</td>\n",
       "      <td>USPS</td>\n",
       "      <td>21.88</td>\n",
       "      <td>1.45</td>\n",
       "      <td>23.33</td>\n",
       "      <td>2019</td>\n",
       "      <td>12</td>\n",
       "      <td>14</td>\n",
       "      <td>5</td>\n",
       "      <td>Saturday</td>\n",
       "    </tr>\n",
       "    <tr>\n",
       "      <th>970</th>\n",
       "      <td>971</td>\n",
       "      <td>2019-12-18</td>\n",
       "      <td>Other</td>\n",
       "      <td>New</td>\n",
       "      <td>Third Party</td>\n",
       "      <td>19.99</td>\n",
       "      <td>13.99</td>\n",
       "      <td>1</td>\n",
       "      <td>2019-12-19</td>\n",
       "      <td>AMZN</td>\n",
       "      <td>13.99</td>\n",
       "      <td>0.93</td>\n",
       "      <td>14.92</td>\n",
       "      <td>2019</td>\n",
       "      <td>12</td>\n",
       "      <td>18</td>\n",
       "      <td>2</td>\n",
       "      <td>Wednesday</td>\n",
       "    </tr>\n",
       "    <tr>\n",
       "      <th>971</th>\n",
       "      <td>972</td>\n",
       "      <td>2019-12-18</td>\n",
       "      <td>Other</td>\n",
       "      <td>New</td>\n",
       "      <td>Third Party</td>\n",
       "      <td>27.00</td>\n",
       "      <td>12.99</td>\n",
       "      <td>1</td>\n",
       "      <td>2019-12-19</td>\n",
       "      <td>AMZN</td>\n",
       "      <td>12.99</td>\n",
       "      <td>0.86</td>\n",
       "      <td>13.85</td>\n",
       "      <td>2019</td>\n",
       "      <td>12</td>\n",
       "      <td>18</td>\n",
       "      <td>2</td>\n",
       "      <td>Wednesday</td>\n",
       "    </tr>\n",
       "    <tr>\n",
       "      <th>972</th>\n",
       "      <td>973</td>\n",
       "      <td>2019-12-19</td>\n",
       "      <td>Other</td>\n",
       "      <td>New</td>\n",
       "      <td>Amazon</td>\n",
       "      <td>50.00</td>\n",
       "      <td>200.00</td>\n",
       "      <td>1</td>\n",
       "      <td>2019-12-19</td>\n",
       "      <td>Other</td>\n",
       "      <td>200.00</td>\n",
       "      <td>0.00</td>\n",
       "      <td>200.00</td>\n",
       "      <td>2019</td>\n",
       "      <td>12</td>\n",
       "      <td>19</td>\n",
       "      <td>3</td>\n",
       "      <td>Thursday</td>\n",
       "    </tr>\n",
       "    <tr>\n",
       "      <th>973</th>\n",
       "      <td>974</td>\n",
       "      <td>2019-12-24</td>\n",
       "      <td>Health &amp; Beauty</td>\n",
       "      <td>New</td>\n",
       "      <td>Amazon</td>\n",
       "      <td>24.99</td>\n",
       "      <td>13.59</td>\n",
       "      <td>2</td>\n",
       "      <td>2019-12-26</td>\n",
       "      <td>AMZN</td>\n",
       "      <td>27.18</td>\n",
       "      <td>0.00</td>\n",
       "      <td>27.18</td>\n",
       "      <td>2019</td>\n",
       "      <td>12</td>\n",
       "      <td>24</td>\n",
       "      <td>1</td>\n",
       "      <td>Tuesday</td>\n",
       "    </tr>\n",
       "  </tbody>\n",
       "</table>\n",
       "</div>"
      ],
      "text/plain": [
       "     OrderID  OrderDate         Category Condition       Seller  \\\n",
       "969      970 2019-12-14         Computer       New       Amazon   \n",
       "970      971 2019-12-18            Other       New  Third Party   \n",
       "971      972 2019-12-18            Other       New  Third Party   \n",
       "972      973 2019-12-19            Other       New       Amazon   \n",
       "973      974 2019-12-24  Health & Beauty       New       Amazon   \n",
       "\n",
       "     ListPricePerUnit  PurchasePricePerUnit  Quantity   ShipDate Carrier  \\\n",
       "969             44.99                 21.88         1 2019-12-15    USPS   \n",
       "970             19.99                 13.99         1 2019-12-19    AMZN   \n",
       "971             27.00                 12.99         1 2019-12-19    AMZN   \n",
       "972             50.00                200.00         1 2019-12-19   Other   \n",
       "973             24.99                 13.59         2 2019-12-26    AMZN   \n",
       "\n",
       "     ItemSubtotal   Tax  ItemTotal  OrderYear  OrderMonth  OrderDay  \\\n",
       "969         21.88  1.45      23.33       2019          12        14   \n",
       "970         13.99  0.93      14.92       2019          12        18   \n",
       "971         12.99  0.86      13.85       2019          12        18   \n",
       "972        200.00  0.00     200.00       2019          12        19   \n",
       "973         27.18  0.00      27.18       2019          12        24   \n",
       "\n",
       "     OrderDayIndex OrderDayName  \n",
       "969              5     Saturday  \n",
       "970              2    Wednesday  \n",
       "971              2    Wednesday  \n",
       "972              3     Thursday  \n",
       "973              1      Tuesday  "
      ]
     },
     "execution_count": 68,
     "metadata": {},
     "output_type": "execute_result"
    }
   ],
   "source": [
    "# Drop rows where year = 2020\n",
    "\n",
    "#df_main = df_main.drop(df_main[df_main['OrderYear'] == 2020].index)\n",
    "df = df.drop(df[df['OrderDate'].dt.year == 2020].index)\n",
    "df.tail()"
   ]
  },
  {
   "cell_type": "code",
   "execution_count": 69,
   "metadata": {},
   "outputs": [
    {
     "data": {
      "text/plain": [
       "OrderID                 0\n",
       "OrderDate               0\n",
       "Category                0\n",
       "Condition               0\n",
       "Seller                  0\n",
       "ListPricePerUnit        0\n",
       "PurchasePricePerUnit    0\n",
       "Quantity                0\n",
       "ShipDate                0\n",
       "Carrier                 0\n",
       "ItemSubtotal            0\n",
       "Tax                     0\n",
       "ItemTotal               0\n",
       "OrderYear               0\n",
       "OrderMonth              0\n",
       "OrderDay                0\n",
       "OrderDayIndex           0\n",
       "OrderDayName            0\n",
       "dtype: int64"
      ]
     },
     "execution_count": 69,
     "metadata": {},
     "output_type": "execute_result"
    }
   ],
   "source": [
    "# Last check for null values\n",
    "\n",
    "df.isna().sum()"
   ]
  },
  {
   "cell_type": "code",
   "execution_count": 70,
   "metadata": {},
   "outputs": [
    {
     "name": "stdout",
     "output_type": "stream",
     "text": [
      "<class 'pandas.core.frame.DataFrame'>\n",
      "Int64Index: 781 entries, 0 to 973\n",
      "Data columns (total 18 columns):\n",
      " #   Column                Non-Null Count  Dtype         \n",
      "---  ------                --------------  -----         \n",
      " 0   OrderID               781 non-null    int64         \n",
      " 1   OrderDate             781 non-null    datetime64[ns]\n",
      " 2   Category              781 non-null    object        \n",
      " 3   Condition             781 non-null    object        \n",
      " 4   Seller                781 non-null    object        \n",
      " 5   ListPricePerUnit      781 non-null    float64       \n",
      " 6   PurchasePricePerUnit  781 non-null    float64       \n",
      " 7   Quantity              781 non-null    int64         \n",
      " 8   ShipDate              781 non-null    datetime64[ns]\n",
      " 9   Carrier               781 non-null    object        \n",
      " 10  ItemSubtotal          781 non-null    float64       \n",
      " 11  Tax                   781 non-null    float64       \n",
      " 12  ItemTotal             781 non-null    float64       \n",
      " 13  OrderYear             781 non-null    int64         \n",
      " 14  OrderMonth            781 non-null    int64         \n",
      " 15  OrderDay              781 non-null    int64         \n",
      " 16  OrderDayIndex         781 non-null    int64         \n",
      " 17  OrderDayName          781 non-null    object        \n",
      "dtypes: datetime64[ns](2), float64(5), int64(6), object(5)\n",
      "memory usage: 115.9+ KB\n"
     ]
    }
   ],
   "source": [
    "# Last check for data types\n",
    "\n",
    "df.info()"
   ]
  },
  {
   "cell_type": "code",
   "execution_count": 71,
   "metadata": {
    "scrolled": true
   },
   "outputs": [
    {
     "data": {
      "text/html": [
       "<div>\n",
       "<style scoped>\n",
       "    .dataframe tbody tr th:only-of-type {\n",
       "        vertical-align: middle;\n",
       "    }\n",
       "\n",
       "    .dataframe tbody tr th {\n",
       "        vertical-align: top;\n",
       "    }\n",
       "\n",
       "    .dataframe thead th {\n",
       "        text-align: right;\n",
       "    }\n",
       "</style>\n",
       "<table border=\"1\" class=\"dataframe\">\n",
       "  <thead>\n",
       "    <tr style=\"text-align: right;\">\n",
       "      <th></th>\n",
       "      <th>OrderID</th>\n",
       "      <th>OrderDate</th>\n",
       "      <th>Category</th>\n",
       "      <th>Condition</th>\n",
       "      <th>Seller</th>\n",
       "      <th>ListPricePerUnit</th>\n",
       "      <th>PurchasePricePerUnit</th>\n",
       "      <th>Quantity</th>\n",
       "      <th>ShipDate</th>\n",
       "      <th>Carrier</th>\n",
       "      <th>ItemSubtotal</th>\n",
       "      <th>Tax</th>\n",
       "      <th>ItemTotal</th>\n",
       "      <th>OrderYear</th>\n",
       "      <th>OrderMonth</th>\n",
       "      <th>OrderDay</th>\n",
       "      <th>OrderDayIndex</th>\n",
       "      <th>OrderDayName</th>\n",
       "    </tr>\n",
       "  </thead>\n",
       "  <tbody>\n",
       "    <tr>\n",
       "      <th>0</th>\n",
       "      <td>1</td>\n",
       "      <td>2008-02-19</td>\n",
       "      <td>Books</td>\n",
       "      <td>Unknown</td>\n",
       "      <td>Amazon</td>\n",
       "      <td>29.99</td>\n",
       "      <td>19.79</td>\n",
       "      <td>1</td>\n",
       "      <td>2008-02-25</td>\n",
       "      <td>USPS</td>\n",
       "      <td>19.79</td>\n",
       "      <td>0.0</td>\n",
       "      <td>19.79</td>\n",
       "      <td>2008</td>\n",
       "      <td>2</td>\n",
       "      <td>19</td>\n",
       "      <td>1</td>\n",
       "      <td>Tuesday</td>\n",
       "    </tr>\n",
       "    <tr>\n",
       "      <th>1</th>\n",
       "      <td>2</td>\n",
       "      <td>2008-02-19</td>\n",
       "      <td>Books</td>\n",
       "      <td>Unknown</td>\n",
       "      <td>Amazon</td>\n",
       "      <td>27.95</td>\n",
       "      <td>18.45</td>\n",
       "      <td>1</td>\n",
       "      <td>2008-02-25</td>\n",
       "      <td>USPS</td>\n",
       "      <td>18.45</td>\n",
       "      <td>0.0</td>\n",
       "      <td>18.45</td>\n",
       "      <td>2008</td>\n",
       "      <td>2</td>\n",
       "      <td>19</td>\n",
       "      <td>1</td>\n",
       "      <td>Tuesday</td>\n",
       "    </tr>\n",
       "    <tr>\n",
       "      <th>2</th>\n",
       "      <td>3</td>\n",
       "      <td>2008-06-03</td>\n",
       "      <td>Books</td>\n",
       "      <td>Unknown</td>\n",
       "      <td>Amazon</td>\n",
       "      <td>34.99</td>\n",
       "      <td>23.09</td>\n",
       "      <td>1</td>\n",
       "      <td>2008-06-04</td>\n",
       "      <td>UPS</td>\n",
       "      <td>23.09</td>\n",
       "      <td>0.0</td>\n",
       "      <td>23.09</td>\n",
       "      <td>2008</td>\n",
       "      <td>6</td>\n",
       "      <td>3</td>\n",
       "      <td>1</td>\n",
       "      <td>Tuesday</td>\n",
       "    </tr>\n",
       "    <tr>\n",
       "      <th>3</th>\n",
       "      <td>4</td>\n",
       "      <td>2008-11-06</td>\n",
       "      <td>Health &amp; Beauty</td>\n",
       "      <td>Unknown</td>\n",
       "      <td>Third Party</td>\n",
       "      <td>6.99</td>\n",
       "      <td>9.39</td>\n",
       "      <td>1</td>\n",
       "      <td>2008-11-07</td>\n",
       "      <td>USPS</td>\n",
       "      <td>9.39</td>\n",
       "      <td>0.0</td>\n",
       "      <td>9.39</td>\n",
       "      <td>2008</td>\n",
       "      <td>11</td>\n",
       "      <td>6</td>\n",
       "      <td>3</td>\n",
       "      <td>Thursday</td>\n",
       "    </tr>\n",
       "    <tr>\n",
       "      <th>4</th>\n",
       "      <td>5</td>\n",
       "      <td>2008-11-06</td>\n",
       "      <td>Health &amp; Beauty</td>\n",
       "      <td>Unknown</td>\n",
       "      <td>Third Party</td>\n",
       "      <td>10.99</td>\n",
       "      <td>7.99</td>\n",
       "      <td>1</td>\n",
       "      <td>2008-11-07</td>\n",
       "      <td>USPS</td>\n",
       "      <td>7.99</td>\n",
       "      <td>0.0</td>\n",
       "      <td>7.99</td>\n",
       "      <td>2008</td>\n",
       "      <td>11</td>\n",
       "      <td>6</td>\n",
       "      <td>3</td>\n",
       "      <td>Thursday</td>\n",
       "    </tr>\n",
       "  </tbody>\n",
       "</table>\n",
       "</div>"
      ],
      "text/plain": [
       "   OrderID  OrderDate         Category Condition       Seller  \\\n",
       "0        1 2008-02-19            Books   Unknown       Amazon   \n",
       "1        2 2008-02-19            Books   Unknown       Amazon   \n",
       "2        3 2008-06-03            Books   Unknown       Amazon   \n",
       "3        4 2008-11-06  Health & Beauty   Unknown  Third Party   \n",
       "4        5 2008-11-06  Health & Beauty   Unknown  Third Party   \n",
       "\n",
       "   ListPricePerUnit  PurchasePricePerUnit  Quantity   ShipDate Carrier  \\\n",
       "0             29.99                 19.79         1 2008-02-25    USPS   \n",
       "1             27.95                 18.45         1 2008-02-25    USPS   \n",
       "2             34.99                 23.09         1 2008-06-04     UPS   \n",
       "3              6.99                  9.39         1 2008-11-07    USPS   \n",
       "4             10.99                  7.99         1 2008-11-07    USPS   \n",
       "\n",
       "   ItemSubtotal  Tax  ItemTotal  OrderYear  OrderMonth  OrderDay  \\\n",
       "0         19.79  0.0      19.79       2008           2        19   \n",
       "1         18.45  0.0      18.45       2008           2        19   \n",
       "2         23.09  0.0      23.09       2008           6         3   \n",
       "3          9.39  0.0       9.39       2008          11         6   \n",
       "4          7.99  0.0       7.99       2008          11         6   \n",
       "\n",
       "   OrderDayIndex OrderDayName  \n",
       "0              1      Tuesday  \n",
       "1              1      Tuesday  \n",
       "2              1      Tuesday  \n",
       "3              3     Thursday  \n",
       "4              3     Thursday  "
      ]
     },
     "execution_count": 71,
     "metadata": {},
     "output_type": "execute_result"
    }
   ],
   "source": [
    "# Final DataFrame\n",
    "\n",
    "df.head()"
   ]
  },
  {
   "cell_type": "code",
   "execution_count": 103,
   "metadata": {},
   "outputs": [],
   "source": [
    "# Now that we have the final DataFrame, we can persist it as a csv.\n",
    "# Export df to csv without index.\n",
    "# We will use this csv to import data into MySQL\n",
    "\n",
    "df.to_csv('amazon_purchases_2.csv', index=False)"
   ]
  },
  {
   "cell_type": "markdown",
   "metadata": {},
   "source": [
    "## <a id='section2'>2. Connecting to SQL</a>\n",
    "\n",
    "<a href='#home'>Home</a>"
   ]
  },
  {
   "cell_type": "code",
   "execution_count": 104,
   "metadata": {},
   "outputs": [],
   "source": [
    "# Now that we have a csv that contains our clean data, we can import it into a SQL database.\n",
    "# Export df to csv without index."
   ]
  },
  {
   "cell_type": "code",
   "execution_count": 105,
   "metadata": {},
   "outputs": [],
   "source": [
    "# dotenv allows us to save passwords in a .env file\n",
    "\n",
    "from dotenv import load_dotenv"
   ]
  },
  {
   "cell_type": "code",
   "execution_count": 106,
   "metadata": {},
   "outputs": [
    {
     "data": {
      "text/plain": [
       "True"
      ]
     },
     "execution_count": 106,
     "metadata": {},
     "output_type": "execute_result"
    }
   ],
   "source": [
    "dotenv_local_path = os.path.abspath('.env')\n",
    "load_dotenv(dotenv_path=dotenv_local_path, verbose=True) "
   ]
  },
  {
   "cell_type": "code",
   "execution_count": 107,
   "metadata": {},
   "outputs": [
    {
     "name": "stdout",
     "output_type": "stream",
     "text": [
      "The dotenv extension is already loaded. To reload it, use:\n",
      "  %reload_ext dotenv\n"
     ]
    }
   ],
   "source": [
    "%load_ext dotenv\n",
    "%dotenv"
   ]
  },
  {
   "cell_type": "code",
   "execution_count": 108,
   "metadata": {},
   "outputs": [],
   "source": [
    "# sqlalchemy allows us to interact with SQL using Python\n",
    "\n",
    "import sqlalchemy\n",
    "from sqlalchemy import create_engine\n",
    "\n",
    "engine = create_engine('mysql+pymysql://' + os.environ.get(\"MYSQL_USER\") + \":\" + os.environ.get(\"MYSQL_PASSWORD\") + '@localhost:3306/amazon')"
   ]
  },
  {
   "cell_type": "code",
   "execution_count": 109,
   "metadata": {},
   "outputs": [
    {
     "data": {
      "text/plain": [
       "<sqlalchemy.engine.result.ResultProxy at 0x7fd8f85ac1c0>"
      ]
     },
     "execution_count": 109,
     "metadata": {},
     "output_type": "execute_result"
    }
   ],
   "source": [
    "# Note that Condition must be wrapped in special characters like backticks since Condition is a reserved SQL keyword.\n",
    "\n",
    "engine.execute('DROP TABLE IF EXISTS purchases;')\n",
    "\n",
    "engine.execute(\"\"\"CREATE TABLE IF NOT EXISTS purchases (\n",
    "OrderID int not null primary key,\n",
    "OrderDate date,\n",
    "Category varchar(50),\n",
    "`Condition` varchar(50),\n",
    "Seller varchar(50),\n",
    "ListPricePerUnit numeric(10,2),\n",
    "PurchasePricePerUnit numeric(10,2),\n",
    "Quantity int,\n",
    "ShipDate date,\n",
    "Carrier varchar(50),\n",
    "ItemSubtotal numeric(10,2),\n",
    "Tax numeric(10,2),\n",
    "ItemTotal numeric(10,2),\n",
    "OrderYear int,\n",
    "OrderMonth int,\n",
    "OrderDay int,\n",
    "OrderDayIndex int,\n",
    "OrderDayName varchar(50));\"\"\")"
   ]
  },
  {
   "cell_type": "code",
   "execution_count": 110,
   "metadata": {},
   "outputs": [],
   "source": [
    "# Required to parse csv to form insert statements\n",
    "\n",
    "import csv\n",
    "from sqlalchemy.sql import text"
   ]
  },
  {
   "cell_type": "code",
   "execution_count": 111,
   "metadata": {},
   "outputs": [],
   "source": [
    "# Insert rows from amazon_purchases_2.csv into MySQL\n",
    "\n",
    "with open('amazon_purchases_2.csv') as csv_file:\n",
    "    input_file = csv.reader(csv_file, delimiter = ',')\n",
    "    next(input_file) # skip header\n",
    "    for row in input_file:\n",
    "        s = text(\"\"\"\n",
    "            INSERT IGNORE INTO purchases (\n",
    "            OrderID,\n",
    "            OrderDate,\n",
    "            Category,\n",
    "            `Condition`,\n",
    "            Seller,\n",
    "            ListPricePerUnit,\n",
    "            PurchasePricePerUnit,\n",
    "            Quantity,\n",
    "            ShipDate,\n",
    "            Carrier,\n",
    "            ItemSubtotal,\n",
    "            Tax,\n",
    "            ItemTotal,\n",
    "            OrderYear,\n",
    "            OrderMonth,\n",
    "            OrderDay,\n",
    "            OrderDayIndex,\n",
    "            OrderDayName\n",
    "            ) VALUES (\n",
    "            :OrderID,\n",
    "            :OrderDate,\n",
    "            :Category,\n",
    "            :Condition,\n",
    "            :Seller,\n",
    "            :ListPricePerUnit,\n",
    "            :PurchasePricePerUnit,\n",
    "            :Quantity,\n",
    "            :ShipDate,\n",
    "            :Carrier,\n",
    "            :ItemSubtotal,\n",
    "            :Tax,\n",
    "            :ItemTotal,\n",
    "            :OrderYear,\n",
    "            :OrderMonth,\n",
    "            :OrderDay,\n",
    "            :OrderDayIndex,\n",
    "            :OrderDayName\n",
    "            );\n",
    "        \"\"\")\n",
    "        engine.execute(\n",
    "        s,\n",
    "        OrderID = row[0],\n",
    "        OrderDate = row[1],\n",
    "        Category = row[2],\n",
    "        Condition = row[3],\n",
    "        Seller = row[4],\n",
    "        ListPricePerUnit = row[5],\n",
    "        PurchasePricePerUnit = row[6],\n",
    "        Quantity = row[7],\n",
    "        ShipDate = row[8],\n",
    "        Carrier = row[9],\n",
    "        ItemSubtotal = row[10],\n",
    "        Tax = row[11],\n",
    "        ItemTotal = row[12],\n",
    "        OrderYear = row[13],\n",
    "        OrderMonth = row[14],\n",
    "        OrderDay = row[15],\n",
    "        OrderDayIndex = row[16],\n",
    "        OrderDayName = row[17]\n",
    "        )"
   ]
  },
  {
   "cell_type": "code",
   "execution_count": 112,
   "metadata": {},
   "outputs": [
    {
     "data": {
      "text/html": [
       "<div>\n",
       "<style scoped>\n",
       "    .dataframe tbody tr th:only-of-type {\n",
       "        vertical-align: middle;\n",
       "    }\n",
       "\n",
       "    .dataframe tbody tr th {\n",
       "        vertical-align: top;\n",
       "    }\n",
       "\n",
       "    .dataframe thead th {\n",
       "        text-align: right;\n",
       "    }\n",
       "</style>\n",
       "<table border=\"1\" class=\"dataframe\">\n",
       "  <thead>\n",
       "    <tr style=\"text-align: right;\">\n",
       "      <th></th>\n",
       "      <th>OrderID</th>\n",
       "      <th>OrderDate</th>\n",
       "      <th>Category</th>\n",
       "      <th>Condition</th>\n",
       "      <th>Seller</th>\n",
       "      <th>ListPricePerUnit</th>\n",
       "      <th>PurchasePricePerUnit</th>\n",
       "      <th>Quantity</th>\n",
       "      <th>ShipDate</th>\n",
       "      <th>Carrier</th>\n",
       "      <th>ItemSubtotal</th>\n",
       "      <th>Tax</th>\n",
       "      <th>ItemTotal</th>\n",
       "      <th>OrderYear</th>\n",
       "      <th>OrderMonth</th>\n",
       "      <th>OrderDay</th>\n",
       "      <th>OrderDayIndex</th>\n",
       "      <th>OrderDayName</th>\n",
       "    </tr>\n",
       "  </thead>\n",
       "  <tbody>\n",
       "    <tr>\n",
       "      <th>0</th>\n",
       "      <td>1</td>\n",
       "      <td>2008-02-19</td>\n",
       "      <td>Books</td>\n",
       "      <td>Unknown</td>\n",
       "      <td>Amazon</td>\n",
       "      <td>29.99</td>\n",
       "      <td>19.79</td>\n",
       "      <td>1</td>\n",
       "      <td>2008-02-25</td>\n",
       "      <td>USPS</td>\n",
       "      <td>19.79</td>\n",
       "      <td>0.0</td>\n",
       "      <td>19.79</td>\n",
       "      <td>2008</td>\n",
       "      <td>2</td>\n",
       "      <td>19</td>\n",
       "      <td>1</td>\n",
       "      <td>Tuesday</td>\n",
       "    </tr>\n",
       "    <tr>\n",
       "      <th>1</th>\n",
       "      <td>2</td>\n",
       "      <td>2008-02-19</td>\n",
       "      <td>Books</td>\n",
       "      <td>Unknown</td>\n",
       "      <td>Amazon</td>\n",
       "      <td>27.95</td>\n",
       "      <td>18.45</td>\n",
       "      <td>1</td>\n",
       "      <td>2008-02-25</td>\n",
       "      <td>USPS</td>\n",
       "      <td>18.45</td>\n",
       "      <td>0.0</td>\n",
       "      <td>18.45</td>\n",
       "      <td>2008</td>\n",
       "      <td>2</td>\n",
       "      <td>19</td>\n",
       "      <td>1</td>\n",
       "      <td>Tuesday</td>\n",
       "    </tr>\n",
       "    <tr>\n",
       "      <th>2</th>\n",
       "      <td>3</td>\n",
       "      <td>2008-06-03</td>\n",
       "      <td>Books</td>\n",
       "      <td>Unknown</td>\n",
       "      <td>Amazon</td>\n",
       "      <td>34.99</td>\n",
       "      <td>23.09</td>\n",
       "      <td>1</td>\n",
       "      <td>2008-06-04</td>\n",
       "      <td>UPS</td>\n",
       "      <td>23.09</td>\n",
       "      <td>0.0</td>\n",
       "      <td>23.09</td>\n",
       "      <td>2008</td>\n",
       "      <td>6</td>\n",
       "      <td>3</td>\n",
       "      <td>1</td>\n",
       "      <td>Tuesday</td>\n",
       "    </tr>\n",
       "    <tr>\n",
       "      <th>3</th>\n",
       "      <td>4</td>\n",
       "      <td>2008-11-06</td>\n",
       "      <td>Health &amp; Beauty</td>\n",
       "      <td>Unknown</td>\n",
       "      <td>Third Party</td>\n",
       "      <td>6.99</td>\n",
       "      <td>9.39</td>\n",
       "      <td>1</td>\n",
       "      <td>2008-11-07</td>\n",
       "      <td>USPS</td>\n",
       "      <td>9.39</td>\n",
       "      <td>0.0</td>\n",
       "      <td>9.39</td>\n",
       "      <td>2008</td>\n",
       "      <td>11</td>\n",
       "      <td>6</td>\n",
       "      <td>3</td>\n",
       "      <td>Thursday</td>\n",
       "    </tr>\n",
       "    <tr>\n",
       "      <th>4</th>\n",
       "      <td>5</td>\n",
       "      <td>2008-11-06</td>\n",
       "      <td>Health &amp; Beauty</td>\n",
       "      <td>Unknown</td>\n",
       "      <td>Third Party</td>\n",
       "      <td>10.99</td>\n",
       "      <td>7.99</td>\n",
       "      <td>1</td>\n",
       "      <td>2008-11-07</td>\n",
       "      <td>USPS</td>\n",
       "      <td>7.99</td>\n",
       "      <td>0.0</td>\n",
       "      <td>7.99</td>\n",
       "      <td>2008</td>\n",
       "      <td>11</td>\n",
       "      <td>6</td>\n",
       "      <td>3</td>\n",
       "      <td>Thursday</td>\n",
       "    </tr>\n",
       "  </tbody>\n",
       "</table>\n",
       "</div>"
      ],
      "text/plain": [
       "   OrderID  OrderDate         Category Condition       Seller  \\\n",
       "0        1 2008-02-19            Books   Unknown       Amazon   \n",
       "1        2 2008-02-19            Books   Unknown       Amazon   \n",
       "2        3 2008-06-03            Books   Unknown       Amazon   \n",
       "3        4 2008-11-06  Health & Beauty   Unknown  Third Party   \n",
       "4        5 2008-11-06  Health & Beauty   Unknown  Third Party   \n",
       "\n",
       "   ListPricePerUnit  PurchasePricePerUnit  Quantity   ShipDate Carrier  \\\n",
       "0             29.99                 19.79         1 2008-02-25    USPS   \n",
       "1             27.95                 18.45         1 2008-02-25    USPS   \n",
       "2             34.99                 23.09         1 2008-06-04     UPS   \n",
       "3              6.99                  9.39         1 2008-11-07    USPS   \n",
       "4             10.99                  7.99         1 2008-11-07    USPS   \n",
       "\n",
       "   ItemSubtotal  Tax  ItemTotal  OrderYear  OrderMonth  OrderDay  \\\n",
       "0         19.79  0.0      19.79       2008           2        19   \n",
       "1         18.45  0.0      18.45       2008           2        19   \n",
       "2         23.09  0.0      23.09       2008           6         3   \n",
       "3          9.39  0.0       9.39       2008          11         6   \n",
       "4          7.99  0.0       7.99       2008          11         6   \n",
       "\n",
       "   OrderDayIndex OrderDayName  \n",
       "0              1      Tuesday  \n",
       "1              1      Tuesday  \n",
       "2              1      Tuesday  \n",
       "3              3     Thursday  \n",
       "4              3     Thursday  "
      ]
     },
     "execution_count": 112,
     "metadata": {},
     "output_type": "execute_result"
    }
   ],
   "source": [
    "# Let's create our DataFrame again but this time by accessing the data directly from SQL\n",
    "\n",
    "df = pd.read_sql(\"SELECT * FROM purchases\", con=engine, parse_dates = ['OrderDate', 'ShipDate'])\n",
    "df.head()"
   ]
  },
  {
   "cell_type": "code",
   "execution_count": 113,
   "metadata": {},
   "outputs": [
    {
     "name": "stdout",
     "output_type": "stream",
     "text": [
      "<class 'pandas.core.frame.DataFrame'>\n",
      "RangeIndex: 781 entries, 0 to 780\n",
      "Data columns (total 18 columns):\n",
      " #   Column                Non-Null Count  Dtype         \n",
      "---  ------                --------------  -----         \n",
      " 0   OrderID               781 non-null    int64         \n",
      " 1   OrderDate             781 non-null    datetime64[ns]\n",
      " 2   Category              781 non-null    object        \n",
      " 3   Condition             781 non-null    object        \n",
      " 4   Seller                781 non-null    object        \n",
      " 5   ListPricePerUnit      781 non-null    float64       \n",
      " 6   PurchasePricePerUnit  781 non-null    float64       \n",
      " 7   Quantity              781 non-null    int64         \n",
      " 8   ShipDate              781 non-null    datetime64[ns]\n",
      " 9   Carrier               781 non-null    object        \n",
      " 10  ItemSubtotal          781 non-null    float64       \n",
      " 11  Tax                   781 non-null    float64       \n",
      " 12  ItemTotal             781 non-null    float64       \n",
      " 13  OrderYear             781 non-null    int64         \n",
      " 14  OrderMonth            781 non-null    int64         \n",
      " 15  OrderDay              781 non-null    int64         \n",
      " 16  OrderDayIndex         781 non-null    int64         \n",
      " 17  OrderDayName          781 non-null    object        \n",
      "dtypes: datetime64[ns](2), float64(5), int64(6), object(5)\n",
      "memory usage: 110.0+ KB\n"
     ]
    }
   ],
   "source": [
    "df.info()"
   ]
  },
  {
   "cell_type": "markdown",
   "metadata": {},
   "source": [
    "### Easier method of storing clean DataFrame into SQL"
   ]
  },
  {
   "cell_type": "code",
   "execution_count": 114,
   "metadata": {},
   "outputs": [],
   "source": [
    "# Instead of saving df to amazon_purchases_2.csv and then importing into SQL, we can save df directly to SQL. \n",
    "# Simply connect to SQL as we did above and then execute the command below:\n",
    "\n",
    "df.to_sql('purchases2', con=engine, if_exists = 'replace', index=False)"
   ]
  },
  {
   "cell_type": "code",
   "execution_count": 115,
   "metadata": {},
   "outputs": [
    {
     "data": {
      "text/html": [
       "<div>\n",
       "<style scoped>\n",
       "    .dataframe tbody tr th:only-of-type {\n",
       "        vertical-align: middle;\n",
       "    }\n",
       "\n",
       "    .dataframe tbody tr th {\n",
       "        vertical-align: top;\n",
       "    }\n",
       "\n",
       "    .dataframe thead th {\n",
       "        text-align: right;\n",
       "    }\n",
       "</style>\n",
       "<table border=\"1\" class=\"dataframe\">\n",
       "  <thead>\n",
       "    <tr style=\"text-align: right;\">\n",
       "      <th></th>\n",
       "      <th>OrderID</th>\n",
       "      <th>OrderDate</th>\n",
       "      <th>Category</th>\n",
       "      <th>Condition</th>\n",
       "      <th>Seller</th>\n",
       "      <th>ListPricePerUnit</th>\n",
       "      <th>PurchasePricePerUnit</th>\n",
       "      <th>Quantity</th>\n",
       "      <th>ShipDate</th>\n",
       "      <th>Carrier</th>\n",
       "      <th>ItemSubtotal</th>\n",
       "      <th>Tax</th>\n",
       "      <th>ItemTotal</th>\n",
       "      <th>OrderYear</th>\n",
       "      <th>OrderMonth</th>\n",
       "      <th>OrderDay</th>\n",
       "      <th>OrderDayIndex</th>\n",
       "      <th>OrderDayName</th>\n",
       "    </tr>\n",
       "  </thead>\n",
       "  <tbody>\n",
       "    <tr>\n",
       "      <th>0</th>\n",
       "      <td>1</td>\n",
       "      <td>2008-02-19</td>\n",
       "      <td>Books</td>\n",
       "      <td>Unknown</td>\n",
       "      <td>Amazon</td>\n",
       "      <td>29.99</td>\n",
       "      <td>19.79</td>\n",
       "      <td>1</td>\n",
       "      <td>2008-02-25</td>\n",
       "      <td>USPS</td>\n",
       "      <td>19.79</td>\n",
       "      <td>0.0</td>\n",
       "      <td>19.79</td>\n",
       "      <td>2008</td>\n",
       "      <td>2</td>\n",
       "      <td>19</td>\n",
       "      <td>1</td>\n",
       "      <td>Tuesday</td>\n",
       "    </tr>\n",
       "    <tr>\n",
       "      <th>1</th>\n",
       "      <td>2</td>\n",
       "      <td>2008-02-19</td>\n",
       "      <td>Books</td>\n",
       "      <td>Unknown</td>\n",
       "      <td>Amazon</td>\n",
       "      <td>27.95</td>\n",
       "      <td>18.45</td>\n",
       "      <td>1</td>\n",
       "      <td>2008-02-25</td>\n",
       "      <td>USPS</td>\n",
       "      <td>18.45</td>\n",
       "      <td>0.0</td>\n",
       "      <td>18.45</td>\n",
       "      <td>2008</td>\n",
       "      <td>2</td>\n",
       "      <td>19</td>\n",
       "      <td>1</td>\n",
       "      <td>Tuesday</td>\n",
       "    </tr>\n",
       "    <tr>\n",
       "      <th>2</th>\n",
       "      <td>3</td>\n",
       "      <td>2008-06-03</td>\n",
       "      <td>Books</td>\n",
       "      <td>Unknown</td>\n",
       "      <td>Amazon</td>\n",
       "      <td>34.99</td>\n",
       "      <td>23.09</td>\n",
       "      <td>1</td>\n",
       "      <td>2008-06-04</td>\n",
       "      <td>UPS</td>\n",
       "      <td>23.09</td>\n",
       "      <td>0.0</td>\n",
       "      <td>23.09</td>\n",
       "      <td>2008</td>\n",
       "      <td>6</td>\n",
       "      <td>3</td>\n",
       "      <td>1</td>\n",
       "      <td>Tuesday</td>\n",
       "    </tr>\n",
       "    <tr>\n",
       "      <th>3</th>\n",
       "      <td>4</td>\n",
       "      <td>2008-11-06</td>\n",
       "      <td>Health &amp; Beauty</td>\n",
       "      <td>Unknown</td>\n",
       "      <td>Third Party</td>\n",
       "      <td>6.99</td>\n",
       "      <td>9.39</td>\n",
       "      <td>1</td>\n",
       "      <td>2008-11-07</td>\n",
       "      <td>USPS</td>\n",
       "      <td>9.39</td>\n",
       "      <td>0.0</td>\n",
       "      <td>9.39</td>\n",
       "      <td>2008</td>\n",
       "      <td>11</td>\n",
       "      <td>6</td>\n",
       "      <td>3</td>\n",
       "      <td>Thursday</td>\n",
       "    </tr>\n",
       "    <tr>\n",
       "      <th>4</th>\n",
       "      <td>5</td>\n",
       "      <td>2008-11-06</td>\n",
       "      <td>Health &amp; Beauty</td>\n",
       "      <td>Unknown</td>\n",
       "      <td>Third Party</td>\n",
       "      <td>10.99</td>\n",
       "      <td>7.99</td>\n",
       "      <td>1</td>\n",
       "      <td>2008-11-07</td>\n",
       "      <td>USPS</td>\n",
       "      <td>7.99</td>\n",
       "      <td>0.0</td>\n",
       "      <td>7.99</td>\n",
       "      <td>2008</td>\n",
       "      <td>11</td>\n",
       "      <td>6</td>\n",
       "      <td>3</td>\n",
       "      <td>Thursday</td>\n",
       "    </tr>\n",
       "  </tbody>\n",
       "</table>\n",
       "</div>"
      ],
      "text/plain": [
       "   OrderID  OrderDate         Category Condition       Seller  \\\n",
       "0        1 2008-02-19            Books   Unknown       Amazon   \n",
       "1        2 2008-02-19            Books   Unknown       Amazon   \n",
       "2        3 2008-06-03            Books   Unknown       Amazon   \n",
       "3        4 2008-11-06  Health & Beauty   Unknown  Third Party   \n",
       "4        5 2008-11-06  Health & Beauty   Unknown  Third Party   \n",
       "\n",
       "   ListPricePerUnit  PurchasePricePerUnit  Quantity   ShipDate Carrier  \\\n",
       "0             29.99                 19.79         1 2008-02-25    USPS   \n",
       "1             27.95                 18.45         1 2008-02-25    USPS   \n",
       "2             34.99                 23.09         1 2008-06-04     UPS   \n",
       "3              6.99                  9.39         1 2008-11-07    USPS   \n",
       "4             10.99                  7.99         1 2008-11-07    USPS   \n",
       "\n",
       "   ItemSubtotal  Tax  ItemTotal  OrderYear  OrderMonth  OrderDay  \\\n",
       "0         19.79  0.0      19.79       2008           2        19   \n",
       "1         18.45  0.0      18.45       2008           2        19   \n",
       "2         23.09  0.0      23.09       2008           6         3   \n",
       "3          9.39  0.0       9.39       2008          11         6   \n",
       "4          7.99  0.0       7.99       2008          11         6   \n",
       "\n",
       "   OrderDayIndex OrderDayName  \n",
       "0              1      Tuesday  \n",
       "1              1      Tuesday  \n",
       "2              1      Tuesday  \n",
       "3              3     Thursday  \n",
       "4              3     Thursday  "
      ]
     },
     "execution_count": 115,
     "metadata": {},
     "output_type": "execute_result"
    }
   ],
   "source": [
    "# Let's confirm that this worked\n",
    "\n",
    "df2 = pd.read_sql(\"SELECT * FROM purchases2\", con=engine, parse_dates = ['OrderDate', 'ShipDate'])\n",
    "df2.head()"
   ]
  },
  {
   "cell_type": "code",
   "execution_count": 116,
   "metadata": {},
   "outputs": [
    {
     "name": "stdout",
     "output_type": "stream",
     "text": [
      "<class 'pandas.core.frame.DataFrame'>\n",
      "RangeIndex: 781 entries, 0 to 780\n",
      "Data columns (total 18 columns):\n",
      " #   Column                Non-Null Count  Dtype         \n",
      "---  ------                --------------  -----         \n",
      " 0   OrderID               781 non-null    int64         \n",
      " 1   OrderDate             781 non-null    datetime64[ns]\n",
      " 2   Category              781 non-null    object        \n",
      " 3   Condition             781 non-null    object        \n",
      " 4   Seller                781 non-null    object        \n",
      " 5   ListPricePerUnit      781 non-null    float64       \n",
      " 6   PurchasePricePerUnit  781 non-null    float64       \n",
      " 7   Quantity              781 non-null    int64         \n",
      " 8   ShipDate              781 non-null    datetime64[ns]\n",
      " 9   Carrier               781 non-null    object        \n",
      " 10  ItemSubtotal          781 non-null    float64       \n",
      " 11  Tax                   781 non-null    float64       \n",
      " 12  ItemTotal             781 non-null    float64       \n",
      " 13  OrderYear             781 non-null    int64         \n",
      " 14  OrderMonth            781 non-null    int64         \n",
      " 15  OrderDay              781 non-null    int64         \n",
      " 16  OrderDayIndex         781 non-null    int64         \n",
      " 17  OrderDayName          781 non-null    object        \n",
      "dtypes: datetime64[ns](2), float64(5), int64(6), object(5)\n",
      "memory usage: 110.0+ KB\n"
     ]
    }
   ],
   "source": [
    "df2.info()"
   ]
  },
  {
   "cell_type": "markdown",
   "metadata": {},
   "source": [
    "## <a id='section3'>3. Data Analysis and Visualization</a>\n",
    "\n",
    "<a href='#home'>Home</a>"
   ]
  },
  {
   "cell_type": "code",
   "execution_count": 117,
   "metadata": {},
   "outputs": [
    {
     "data": {
      "text/html": [
       "<div>\n",
       "<style scoped>\n",
       "    .dataframe tbody tr th:only-of-type {\n",
       "        vertical-align: middle;\n",
       "    }\n",
       "\n",
       "    .dataframe tbody tr th {\n",
       "        vertical-align: top;\n",
       "    }\n",
       "\n",
       "    .dataframe thead th {\n",
       "        text-align: right;\n",
       "    }\n",
       "</style>\n",
       "<table border=\"1\" class=\"dataframe\">\n",
       "  <thead>\n",
       "    <tr style=\"text-align: right;\">\n",
       "      <th></th>\n",
       "      <th>OrderID</th>\n",
       "      <th>OrderDate</th>\n",
       "      <th>Category</th>\n",
       "      <th>Condition</th>\n",
       "      <th>Seller</th>\n",
       "      <th>ListPricePerUnit</th>\n",
       "      <th>PurchasePricePerUnit</th>\n",
       "      <th>Quantity</th>\n",
       "      <th>ShipDate</th>\n",
       "      <th>Carrier</th>\n",
       "      <th>ItemSubtotal</th>\n",
       "      <th>Tax</th>\n",
       "      <th>ItemTotal</th>\n",
       "      <th>OrderYear</th>\n",
       "      <th>OrderMonth</th>\n",
       "      <th>OrderDay</th>\n",
       "      <th>OrderDayIndex</th>\n",
       "      <th>OrderDayName</th>\n",
       "    </tr>\n",
       "  </thead>\n",
       "  <tbody>\n",
       "    <tr>\n",
       "      <th>0</th>\n",
       "      <td>1</td>\n",
       "      <td>2008-02-19</td>\n",
       "      <td>Books</td>\n",
       "      <td>Unknown</td>\n",
       "      <td>Amazon</td>\n",
       "      <td>29.99</td>\n",
       "      <td>19.79</td>\n",
       "      <td>1</td>\n",
       "      <td>2008-02-25</td>\n",
       "      <td>USPS</td>\n",
       "      <td>19.79</td>\n",
       "      <td>0.0</td>\n",
       "      <td>19.79</td>\n",
       "      <td>2008</td>\n",
       "      <td>2</td>\n",
       "      <td>19</td>\n",
       "      <td>1</td>\n",
       "      <td>Tuesday</td>\n",
       "    </tr>\n",
       "    <tr>\n",
       "      <th>1</th>\n",
       "      <td>2</td>\n",
       "      <td>2008-02-19</td>\n",
       "      <td>Books</td>\n",
       "      <td>Unknown</td>\n",
       "      <td>Amazon</td>\n",
       "      <td>27.95</td>\n",
       "      <td>18.45</td>\n",
       "      <td>1</td>\n",
       "      <td>2008-02-25</td>\n",
       "      <td>USPS</td>\n",
       "      <td>18.45</td>\n",
       "      <td>0.0</td>\n",
       "      <td>18.45</td>\n",
       "      <td>2008</td>\n",
       "      <td>2</td>\n",
       "      <td>19</td>\n",
       "      <td>1</td>\n",
       "      <td>Tuesday</td>\n",
       "    </tr>\n",
       "    <tr>\n",
       "      <th>2</th>\n",
       "      <td>3</td>\n",
       "      <td>2008-06-03</td>\n",
       "      <td>Books</td>\n",
       "      <td>Unknown</td>\n",
       "      <td>Amazon</td>\n",
       "      <td>34.99</td>\n",
       "      <td>23.09</td>\n",
       "      <td>1</td>\n",
       "      <td>2008-06-04</td>\n",
       "      <td>UPS</td>\n",
       "      <td>23.09</td>\n",
       "      <td>0.0</td>\n",
       "      <td>23.09</td>\n",
       "      <td>2008</td>\n",
       "      <td>6</td>\n",
       "      <td>3</td>\n",
       "      <td>1</td>\n",
       "      <td>Tuesday</td>\n",
       "    </tr>\n",
       "    <tr>\n",
       "      <th>3</th>\n",
       "      <td>4</td>\n",
       "      <td>2008-11-06</td>\n",
       "      <td>Health &amp; Beauty</td>\n",
       "      <td>Unknown</td>\n",
       "      <td>Third Party</td>\n",
       "      <td>6.99</td>\n",
       "      <td>9.39</td>\n",
       "      <td>1</td>\n",
       "      <td>2008-11-07</td>\n",
       "      <td>USPS</td>\n",
       "      <td>9.39</td>\n",
       "      <td>0.0</td>\n",
       "      <td>9.39</td>\n",
       "      <td>2008</td>\n",
       "      <td>11</td>\n",
       "      <td>6</td>\n",
       "      <td>3</td>\n",
       "      <td>Thursday</td>\n",
       "    </tr>\n",
       "    <tr>\n",
       "      <th>4</th>\n",
       "      <td>5</td>\n",
       "      <td>2008-11-06</td>\n",
       "      <td>Health &amp; Beauty</td>\n",
       "      <td>Unknown</td>\n",
       "      <td>Third Party</td>\n",
       "      <td>10.99</td>\n",
       "      <td>7.99</td>\n",
       "      <td>1</td>\n",
       "      <td>2008-11-07</td>\n",
       "      <td>USPS</td>\n",
       "      <td>7.99</td>\n",
       "      <td>0.0</td>\n",
       "      <td>7.99</td>\n",
       "      <td>2008</td>\n",
       "      <td>11</td>\n",
       "      <td>6</td>\n",
       "      <td>3</td>\n",
       "      <td>Thursday</td>\n",
       "    </tr>\n",
       "  </tbody>\n",
       "</table>\n",
       "</div>"
      ],
      "text/plain": [
       "   OrderID  OrderDate         Category Condition       Seller  \\\n",
       "0        1 2008-02-19            Books   Unknown       Amazon   \n",
       "1        2 2008-02-19            Books   Unknown       Amazon   \n",
       "2        3 2008-06-03            Books   Unknown       Amazon   \n",
       "3        4 2008-11-06  Health & Beauty   Unknown  Third Party   \n",
       "4        5 2008-11-06  Health & Beauty   Unknown  Third Party   \n",
       "\n",
       "   ListPricePerUnit  PurchasePricePerUnit  Quantity   ShipDate Carrier  \\\n",
       "0             29.99                 19.79         1 2008-02-25    USPS   \n",
       "1             27.95                 18.45         1 2008-02-25    USPS   \n",
       "2             34.99                 23.09         1 2008-06-04     UPS   \n",
       "3              6.99                  9.39         1 2008-11-07    USPS   \n",
       "4             10.99                  7.99         1 2008-11-07    USPS   \n",
       "\n",
       "   ItemSubtotal  Tax  ItemTotal  OrderYear  OrderMonth  OrderDay  \\\n",
       "0         19.79  0.0      19.79       2008           2        19   \n",
       "1         18.45  0.0      18.45       2008           2        19   \n",
       "2         23.09  0.0      23.09       2008           6         3   \n",
       "3          9.39  0.0       9.39       2008          11         6   \n",
       "4          7.99  0.0       7.99       2008          11         6   \n",
       "\n",
       "   OrderDayIndex OrderDayName  \n",
       "0              1      Tuesday  \n",
       "1              1      Tuesday  \n",
       "2              1      Tuesday  \n",
       "3              3     Thursday  \n",
       "4              3     Thursday  "
      ]
     },
     "execution_count": 117,
     "metadata": {},
     "output_type": "execute_result"
    }
   ],
   "source": [
    "# Load dataframe\n",
    "\n",
    "df.head()"
   ]
  },
  {
   "cell_type": "code",
   "execution_count": 118,
   "metadata": {},
   "outputs": [
    {
     "data": {
      "text/plain": [
       "30357.41"
      ]
     },
     "execution_count": 118,
     "metadata": {},
     "output_type": "execute_result"
    }
   ],
   "source": [
    "# Cumulative total spent from 2008-2019, inclusive\n",
    "\n",
    "TotalSpent = df['ItemTotal'].sum()\n",
    "TotalSpent"
   ]
  },
  {
   "cell_type": "code",
   "execution_count": 119,
   "metadata": {},
   "outputs": [
    {
     "data": {
      "text/plain": [
       "781"
      ]
     },
     "execution_count": 119,
     "metadata": {},
     "output_type": "execute_result"
    }
   ],
   "source": [
    "# Total number of transactions\n",
    "\n",
    "NumTrans = len(df['ItemTotal'])\n",
    "NumTrans"
   ]
  },
  {
   "cell_type": "code",
   "execution_count": 120,
   "metadata": {},
   "outputs": [
    {
     "data": {
      "text/plain": [
       "38.86992317541613"
      ]
     },
     "execution_count": 120,
     "metadata": {},
     "output_type": "execute_result"
    }
   ],
   "source": [
    "# Average spent\n",
    "\n",
    "AvgSpent = TotalSpent/NumTrans\n",
    "AvgSpent"
   ]
  },
  {
   "cell_type": "code",
   "execution_count": 121,
   "metadata": {},
   "outputs": [
    {
     "data": {
      "text/plain": [
       "OrderDate\n",
       "2008-02-19     38.24\n",
       "2008-06-03     23.09\n",
       "2008-11-06     29.86\n",
       "2008-12-13     25.90\n",
       "2009-07-18     26.97\n",
       "               ...  \n",
       "2019-12-13     23.45\n",
       "2019-12-14     23.33\n",
       "2019-12-18     28.77\n",
       "2019-12-19    200.00\n",
       "2019-12-24     27.18\n",
       "Name: ItemTotal, Length: 445, dtype: float64"
      ]
     },
     "execution_count": 121,
     "metadata": {},
     "output_type": "execute_result"
    }
   ],
   "source": [
    "# Use groupby to sum purchases by date\n",
    "\n",
    "df_DateTotal = df[['OrderDate', 'ItemTotal']]\n",
    "df_DateTotal = df_DateTotal.groupby('OrderDate')\n",
    "df_DateTotal = df_DateTotal['ItemTotal'].sum()\n",
    "df_DateTotal"
   ]
  },
  {
   "cell_type": "code",
   "execution_count": 122,
   "metadata": {
    "scrolled": true
   },
   "outputs": [
    {
     "data": {
      "image/png": "[encoded data removed]",
      "text/plain": [
       "<Figure size 1080x360 with 1 Axes>"
      ]
     },
     "metadata": {
      "needs_background": "light"
     },
     "output_type": "display_data"
    }
   ],
   "source": [
    "# Plot OrderDate & sum of purchases by date\n",
    "\n",
    "fig, ax = plt.subplots(figsize = (15,5))\n",
    "ax.plot(df_DateTotal.index, df_DateTotal.values, color = 'steelblue')\n",
    "ax.set_xlabel('Order Date')\n",
    "ax.set_ylabel('Item Total')\n",
    "ax.set_title('Daily Purchase Amount')\n",
    "plt.show()\n",
    "#ax.figure.savefig('./img/DailyPurchaseAmount.png', bbox_inches='tight', dpi=150)"
   ]
  },
  {
   "cell_type": "code",
   "execution_count": 123,
   "metadata": {},
   "outputs": [
    {
     "data": {
      "text/plain": [
       "OrderDate\n",
       "2008-02-19    0.00\n",
       "2008-06-03    0.00\n",
       "2008-11-06    0.00\n",
       "2008-12-13    0.00\n",
       "2009-07-18    0.00\n",
       "              ... \n",
       "2019-12-13    1.46\n",
       "2019-12-14    1.45\n",
       "2019-12-18    1.79\n",
       "2019-12-19    0.00\n",
       "2019-12-24    0.00\n",
       "Name: Tax, Length: 445, dtype: float64"
      ]
     },
     "execution_count": 123,
     "metadata": {},
     "output_type": "execute_result"
    }
   ],
   "source": [
    "# Use groupby to sum taxes by date\n",
    "\n",
    "df_DateTax = df[['OrderDate', 'Tax']]\n",
    "df_DateTax = df_DateTax.groupby('OrderDate')\n",
    "df_DateTax = df_DateTax['Tax'].sum()\n",
    "df_DateTax"
   ]
  },
  {
   "cell_type": "code",
   "execution_count": 124,
   "metadata": {},
   "outputs": [
    {
     "data": {
      "image/png": "[encoded data removed]",
      "text/plain": [
       "<Figure size 1080x360 with 2 Axes>"
      ]
     },
     "metadata": {
      "needs_background": "light"
     },
     "output_type": "display_data"
    }
   ],
   "source": [
    "# Plot OrderDate and ItemTotal and OrderDate and Tax\n",
    "\n",
    "fig,ax = plt.subplots(1,2, sharey = True, figsize = (15,5))\n",
    "\n",
    "ax[0].plot(df_DateTotal.index, df_DateTotal.values, color = 'steelblue')\n",
    "ax[1].plot(df_DateTax.index, df_DateTax.values, color = 'red')\n",
    "\n",
    "ax[0].set_xlabel('Order Date')\n",
    "ax[0].set_ylabel('$ Total')\n",
    "ax[1].set_xlabel('Order Date')\n",
    "\n",
    "ax[0].set_title('Daily Purchase Amount')\n",
    "ax[1].set_title('Daily Tax Amount')\n",
    "\n",
    "plt.show()"
   ]
  },
  {
   "cell_type": "code",
   "execution_count": 125,
   "metadata": {},
   "outputs": [
    {
     "name": "stdout",
     "output_type": "stream",
     "text": [
      "OrderYear\n",
      "2008     117.09\n",
      "2009     456.85\n",
      "2010    2421.77\n",
      "2011    7176.93\n",
      "2012    3651.85\n",
      "2013    3689.19\n",
      "2014    2075.99\n",
      "2015    1257.52\n",
      "2016     823.48\n",
      "2017    1392.77\n",
      "2018    2689.12\n",
      "2019    4604.85\n",
      "Name: ItemTotal, dtype: float64\n"
     ]
    }
   ],
   "source": [
    "# The previous graphs contained too much data since they were being plotted for each day. \n",
    "# Grouping will allow the information to be more legible.\n",
    "\n",
    "# Purchases by Year \n",
    "\n",
    "df_OrderYear = df[['OrderDate', 'ItemTotal', 'OrderYear']]\n",
    "df_OrderYear = df_OrderYear.sort_values('OrderDate')\n",
    "df_OrderYear = df_OrderYear.groupby('OrderYear')\n",
    "df_OrderYear = df_OrderYear['ItemTotal'].sum()\n",
    "print(df_OrderYear)"
   ]
  },
  {
   "cell_type": "code",
   "execution_count": 126,
   "metadata": {
    "scrolled": true
   },
   "outputs": [
    {
     "data": {
      "image/png": "[encoded data removed]",
      "text/plain": [
       "<Figure size 1080x360 with 1 Axes>"
      ]
     },
     "metadata": {
      "needs_background": "light"
     },
     "output_type": "display_data"
    }
   ],
   "source": [
    "fig,ax = plt.subplots(figsize = (15,5))\n",
    "ax.plot(df_OrderYear.index, df_OrderYear.values, color = 'steelblue', marker = 'o')\n",
    "ax.set_title('Purchases by Year')\n",
    "\n",
    "# x-axis\n",
    "ax.set_xlabel('Year')\n",
    "\n",
    "# y-axis\n",
    "ax.set_ylabel('$ Amount')\n",
    "ax.yaxis.set_major_formatter(\n",
    "    ticker.FuncFormatter(lambda y,p: format(int(y), ','))\n",
    ")\n",
    "\n",
    "plt.show()"
   ]
  },
  {
   "cell_type": "code",
   "execution_count": 127,
   "metadata": {},
   "outputs": [
    {
     "data": {
      "image/png": "[encoded data removed]",
      "text/plain": [
       "<Figure size 1080x360 with 1 Axes>"
      ]
     },
     "metadata": {
      "needs_background": "light"
     },
     "output_type": "display_data"
    }
   ],
   "source": [
    "fig,ax = plt.subplots(figsize = (15,5))\n",
    "ax.bar(df_OrderYear.index, df_OrderYear.values, color = 'steelblue')\n",
    "ax.set_title('Purchases by Year')\n",
    "\n",
    "# x-axis\n",
    "ax.set_xlabel('Year')\n",
    "plt.xticks([x for x in df_OrderYear.index], rotation = 0)\n",
    "\n",
    "# y-axis\n",
    "ax.set_ylabel('Amount')\n",
    "ax.yaxis.set_major_formatter(\n",
    "    ticker.FuncFormatter(lambda y,p: '$'+format(int(y), ','))\n",
    ")\n",
    "\n",
    "# labels\n",
    "for i,j in zip(df_OrderYear.index, df_OrderYear.values):\n",
    "    ax.annotate(format(int(j), ','), xy=(i,j), va='bottom', ha='center')\n",
    "\n",
    "plt.show()\n",
    "#ax.figure.savefig('./img/PurchasesByYear.png', bbox_inches='tight', dpi=150)"
   ]
  },
  {
   "cell_type": "code",
   "execution_count": 128,
   "metadata": {},
   "outputs": [
    {
     "data": {
      "text/plain": [
       "OrderMonth\n",
       "1     1435.93\n",
       "2     3082.08\n",
       "3     4439.17\n",
       "4     1497.22\n",
       "5     2198.31\n",
       "6     2042.64\n",
       "7     3352.54\n",
       "8     3507.65\n",
       "9     1887.06\n",
       "10    2392.95\n",
       "11    2187.99\n",
       "12    2333.87\n",
       "Name: ItemTotal, dtype: float64"
      ]
     },
     "execution_count": 128,
     "metadata": {},
     "output_type": "execute_result"
    }
   ],
   "source": [
    "# Purchases by Month\n",
    "\n",
    "df_OrderMonth = df[['OrderDate', 'ItemTotal', 'OrderMonth']]\n",
    "df_OrderMonth = df_OrderMonth.sort_values('OrderDate')\n",
    "df_OrderMonth = df_OrderMonth.groupby('OrderMonth')\n",
    "df_OrderMonth = df_OrderMonth['ItemTotal'].sum()\n",
    "df_OrderMonth"
   ]
  },
  {
   "cell_type": "code",
   "execution_count": 129,
   "metadata": {},
   "outputs": [
    {
     "data": {
      "image/png": "[encoded data removed]",
      "text/plain": [
       "<Figure size 1080x360 with 1 Axes>"
      ]
     },
     "metadata": {
      "needs_background": "light"
     },
     "output_type": "display_data"
    }
   ],
   "source": [
    "fig, ax = plt.subplots(figsize = (15,5))\n",
    "ax.plot(df_OrderMonth.index, df_OrderMonth.values, color = 'steelblue', marker = 'o')\n",
    "ax.set_title('Purchases by Month')\n",
    "\n",
    "# x-axis\n",
    "ax.set_xlabel('Month')\n",
    "plt.xticks([x for x in df_OrderMonth.index])\n",
    "\n",
    "# y-axis\n",
    "ax.set_ylabel('$ Amount')\n",
    "ax.yaxis.set_major_formatter(\n",
    "    ticker.FuncFormatter(lambda y,p: format(int(y), ','))\n",
    ")\n",
    "\n",
    "plt.show()"
   ]
  },
  {
   "cell_type": "code",
   "execution_count": 130,
   "metadata": {},
   "outputs": [
    {
     "data": {
      "image/png": "[encoded data removed]",
      "text/plain": [
       "<Figure size 1080x360 with 1 Axes>"
      ]
     },
     "metadata": {
      "needs_background": "light"
     },
     "output_type": "display_data"
    }
   ],
   "source": [
    "fig, ax = plt.subplots(figsize = (15,5))\n",
    "ax.bar(df_OrderMonth.index, df_OrderMonth.values, color = 'steelblue')\n",
    "ax.set_title('Purchases by Month')\n",
    "\n",
    "# x-axis\n",
    "ax.set_xlabel('Month')\n",
    "plt.xticks([x for x in df_OrderMonth.index])\n",
    "\n",
    "# y-axis\n",
    "ax.set_ylabel('$ Amount')\n",
    "ax.yaxis.set_major_formatter(\n",
    "    ticker.FuncFormatter(lambda y,p: format(int(y), ','))\n",
    ")\n",
    "\n",
    "# labels\n",
    "for i,j in zip(df_OrderMonth.index, df_OrderMonth.values):\n",
    "    ax.annotate(format(int(j), ','), xy=(i,j), va='bottom', ha='center')\n",
    "\n",
    "plt.show()"
   ]
  },
  {
   "cell_type": "code",
   "execution_count": 169,
   "metadata": {},
   "outputs": [
    {
     "data": {
      "text/html": [
       "<div>\n",
       "<style scoped>\n",
       "    .dataframe tbody tr th:only-of-type {\n",
       "        vertical-align: middle;\n",
       "    }\n",
       "\n",
       "    .dataframe tbody tr th {\n",
       "        vertical-align: top;\n",
       "    }\n",
       "\n",
       "    .dataframe thead th {\n",
       "        text-align: right;\n",
       "    }\n",
       "</style>\n",
       "<table border=\"1\" class=\"dataframe\">\n",
       "  <thead>\n",
       "    <tr style=\"text-align: right;\">\n",
       "      <th></th>\n",
       "      <th>OrderMonth</th>\n",
       "      <th>MonthName</th>\n",
       "      <th>ItemTotal</th>\n",
       "    </tr>\n",
       "  </thead>\n",
       "  <tbody>\n",
       "    <tr>\n",
       "      <th>0</th>\n",
       "      <td>1</td>\n",
       "      <td>Jan</td>\n",
       "      <td>1435.93</td>\n",
       "    </tr>\n",
       "    <tr>\n",
       "      <th>1</th>\n",
       "      <td>2</td>\n",
       "      <td>Feb</td>\n",
       "      <td>3082.08</td>\n",
       "    </tr>\n",
       "    <tr>\n",
       "      <th>2</th>\n",
       "      <td>3</td>\n",
       "      <td>Mar</td>\n",
       "      <td>4439.17</td>\n",
       "    </tr>\n",
       "    <tr>\n",
       "      <th>3</th>\n",
       "      <td>4</td>\n",
       "      <td>Apr</td>\n",
       "      <td>1497.22</td>\n",
       "    </tr>\n",
       "    <tr>\n",
       "      <th>4</th>\n",
       "      <td>5</td>\n",
       "      <td>May</td>\n",
       "      <td>2198.31</td>\n",
       "    </tr>\n",
       "    <tr>\n",
       "      <th>5</th>\n",
       "      <td>6</td>\n",
       "      <td>Jun</td>\n",
       "      <td>2042.64</td>\n",
       "    </tr>\n",
       "    <tr>\n",
       "      <th>6</th>\n",
       "      <td>7</td>\n",
       "      <td>Jul</td>\n",
       "      <td>3352.54</td>\n",
       "    </tr>\n",
       "    <tr>\n",
       "      <th>7</th>\n",
       "      <td>8</td>\n",
       "      <td>Aug</td>\n",
       "      <td>3507.65</td>\n",
       "    </tr>\n",
       "    <tr>\n",
       "      <th>8</th>\n",
       "      <td>9</td>\n",
       "      <td>Sep</td>\n",
       "      <td>1887.06</td>\n",
       "    </tr>\n",
       "    <tr>\n",
       "      <th>9</th>\n",
       "      <td>10</td>\n",
       "      <td>Oct</td>\n",
       "      <td>2392.95</td>\n",
       "    </tr>\n",
       "    <tr>\n",
       "      <th>10</th>\n",
       "      <td>11</td>\n",
       "      <td>Nov</td>\n",
       "      <td>2187.99</td>\n",
       "    </tr>\n",
       "    <tr>\n",
       "      <th>11</th>\n",
       "      <td>12</td>\n",
       "      <td>Dec</td>\n",
       "      <td>2333.87</td>\n",
       "    </tr>\n",
       "  </tbody>\n",
       "</table>\n",
       "</div>"
      ],
      "text/plain": [
       "    OrderMonth MonthName  ItemTotal\n",
       "0            1       Jan    1435.93\n",
       "1            2       Feb    3082.08\n",
       "2            3       Mar    4439.17\n",
       "3            4       Apr    1497.22\n",
       "4            5       May    2198.31\n",
       "5            6       Jun    2042.64\n",
       "6            7       Jul    3352.54\n",
       "7            8       Aug    3507.65\n",
       "8            9       Sep    1887.06\n",
       "9           10       Oct    2392.95\n",
       "10          11       Nov    2187.99\n",
       "11          12       Dec    2333.87"
      ]
     },
     "execution_count": 169,
     "metadata": {},
     "output_type": "execute_result"
    }
   ],
   "source": [
    "# Add month names\n",
    "\n",
    "df_OrderMonthName = df[['OrderDate', 'OrderMonth', 'ItemTotal']]\n",
    "df_OrderMonthName = df_OrderMonthName.sort_values('OrderDate')\n",
    "df_OrderMonthName['MonthName'] = df_OrderMonthName['OrderDate'].dt.strftime(\"%b\")\n",
    "df_OrderMonthName = df_OrderMonthName.groupby(['OrderMonth','MonthName'], as_index = False)\n",
    "df_OrderMonthName = df_OrderMonthName['ItemTotal'].sum()\n",
    "df_OrderMonthName"
   ]
  },
  {
   "cell_type": "code",
   "execution_count": 170,
   "metadata": {},
   "outputs": [
    {
     "data": {
      "image/png": "[encoded data removed]",
      "text/plain": [
       "<Figure size 1080x360 with 1 Axes>"
      ]
     },
     "metadata": {
      "needs_background": "light"
     },
     "output_type": "display_data"
    }
   ],
   "source": [
    "fig,ax = plt.subplots(figsize = (15,5))\n",
    "ax.bar(df_OrderMonthName.MonthName, df_OrderMonthName.ItemTotal, color = 'steelblue')\n",
    "ax.set_title('Purchases by Month')\n",
    "\n",
    "# x-axis\n",
    "ax.set_xlabel('Month')\n",
    "plt.xticks([x for x in df_OrderMonthName.MonthName])\n",
    "\n",
    "# y-axis\n",
    "ax.set_ylabel('$ Amount')\n",
    "ax.yaxis.set_major_formatter(\n",
    "    ticker.FuncFormatter(lambda y,p: format(int(y), ','))\n",
    ")\n",
    "\n",
    "# labels\n",
    "for i,j in zip(df_OrderMonthName.MonthName, df_OrderMonthName.ItemTotal):\n",
    "    ax.annotate(format(int(j), ','), xy=(i,j), va='bottom', ha='center')\n",
    "\n",
    "plt.show()\n",
    "#ax.figure.savefig('./img/PurchasesByMonth.png', bbox_inches='tight', dpi=150)"
   ]
  },
  {
   "cell_type": "code",
   "execution_count": 133,
   "metadata": {},
   "outputs": [
    {
     "data": {
      "text/plain": [
       "OrderYear\n",
       "2008      9\n",
       "2009     15\n",
       "2010     83\n",
       "2011     96\n",
       "2012     96\n",
       "2013     89\n",
       "2014     48\n",
       "2015     59\n",
       "2016     36\n",
       "2017     68\n",
       "2018     69\n",
       "2019    113\n",
       "Name: ItemTotal, dtype: int64"
      ]
     },
     "execution_count": 133,
     "metadata": {},
     "output_type": "execute_result"
    }
   ],
   "source": [
    "# Transactions by Year\n",
    "\n",
    "df_TransYear = df[['OrderDate', 'ItemTotal', 'OrderYear']]\n",
    "df_TransYear = df_TransYear.groupby('OrderYear')\n",
    "df_TransYear = df_TransYear['ItemTotal'].size()\n",
    "df_TransYear"
   ]
  },
  {
   "cell_type": "code",
   "execution_count": 134,
   "metadata": {},
   "outputs": [
    {
     "data": {
      "image/png": "[encoded data removed]",
      "text/plain": [
       "<Figure size 1080x360 with 1 Axes>"
      ]
     },
     "metadata": {
      "needs_background": "light"
     },
     "output_type": "display_data"
    }
   ],
   "source": [
    "fig,ax = plt.subplots(figsize = (15,5))\n",
    "ax.plot(df_TransYear.index, df_TransYear.values, color = 'steelblue', marker = 'o')\n",
    "ax.set_title('Transactions by Year')\n",
    "\n",
    "# x-axis\n",
    "ax.set_xlabel('Year')\n",
    "plt.xticks([x for x in df_TransYear.index])\n",
    "\n",
    "# y-axis\n",
    "ax.set_ylabel('Transactions')\n",
    "ax.yaxis.set_major_formatter(\n",
    "    ticker.FuncFormatter(lambda y,p: format(int(y), ','))\n",
    ")\n",
    "\n",
    "# labels\n",
    "for i,j in zip(df_TransYear.index, df_TransYear.values):\n",
    "    ax.annotate(format(int(j)), xy=(i,j), va='bottom', ha='right')\n",
    "\n",
    "plt.show()\n",
    "#ax.figure.savefig('./img/TransactionsByYear.png', bbox_inches='tight', dpi=150)"
   ]
  },
  {
   "cell_type": "code",
   "execution_count": 135,
   "metadata": {},
   "outputs": [
    {
     "data": {
      "text/plain": [
       "Seller\n",
       "False    326\n",
       "True     455\n",
       "dtype: int64"
      ]
     },
     "execution_count": 135,
     "metadata": {},
     "output_type": "execute_result"
    }
   ],
   "source": [
    "# Transactions by Seller\n",
    "\n",
    "df_TransSeller = df[['Seller']]\n",
    "df_TransSeller = df_TransSeller.groupby(df_TransSeller['Seller'] == 'Amazon')\n",
    "df_TransSeller = df_TransSeller.size()\n",
    "df_TransSeller"
   ]
  },
  {
   "cell_type": "code",
   "execution_count": 136,
   "metadata": {},
   "outputs": [
    {
     "data": {
      "image/png": "[encoded data removed]",
      "text/plain": [
       "<Figure size 720x360 with 1 Axes>"
      ]
     },
     "metadata": {},
     "output_type": "display_data"
    }
   ],
   "source": [
    "fig,ax = plt.subplots(figsize = (10,5))\n",
    "ax.pie(df_TransSeller.values, labels = ['Third Party', 'Amazon'], autopct = '%1.1f%%')\n",
    "ax.set_title('Transactions by Seller')\n",
    "ax.axis('equal')\n",
    "plt.show()"
   ]
  },
  {
   "cell_type": "code",
   "execution_count": 137,
   "metadata": {},
   "outputs": [
    {
     "data": {
      "image/png": "[encoded data removed]",
      "text/plain": [
       "<Figure size 720x360 with 1 Axes>"
      ]
     },
     "metadata": {},
     "output_type": "display_data"
    }
   ],
   "source": [
    "fig, ax = plt.subplots(figsize = (10,5))\n",
    "ax.pie(df_TransSeller.values, autopct = '%1.1f%%', colors = ['skyblue', 'steelblue'] )\n",
    "ax.legend(\n",
    "    #df_TransSeller.index,\n",
    "    title = 'Seller',\n",
    "    labels = ['Third Party', 'Amazon'],\n",
    "    loc = 'center left',\n",
    "    bbox_to_anchor = (0.75,0,0.5,1)\n",
    ")\n",
    "ax.set_title('Transactions by Seller')\n",
    "ax.axis('equal')\n",
    "plt.show()\n",
    "#ax.figure.savefig('./img/TransactionsBySeller.png', bbox_inches='tight', dpi=150)"
   ]
  },
  {
   "cell_type": "code",
   "execution_count": 138,
   "metadata": {},
   "outputs": [
    {
     "data": {
      "text/plain": [
       "Seller\n",
       "False     7289.76\n",
       "True     23067.65\n",
       "Name: ItemTotal, dtype: float64"
      ]
     },
     "execution_count": 138,
     "metadata": {},
     "output_type": "execute_result"
    }
   ],
   "source": [
    "# Purchases by Seller\n",
    "\n",
    "df_PurchasesSeller = df[['Seller', 'ItemTotal']]\n",
    "df_PurchasesSeller = df_PurchasesSeller.groupby(df_PurchasesSeller['Seller'] == 'Amazon')\n",
    "df_PurchasesSeller = df_PurchasesSeller['ItemTotal'].sum()\n",
    "df_PurchasesSeller"
   ]
  },
  {
   "cell_type": "code",
   "execution_count": 139,
   "metadata": {},
   "outputs": [
    {
     "data": {
      "image/png": "[encoded data removed]",
      "text/plain": [
       "<Figure size 720x360 with 1 Axes>"
      ]
     },
     "metadata": {},
     "output_type": "display_data"
    }
   ],
   "source": [
    "fig,ax = plt.subplots(figsize = (10,5))\n",
    "ax.pie(df_PurchasesSeller.values, autopct = '%1.1f%%', colors = ['skyblue', 'steelblue'])\n",
    "ax.legend(\n",
    "    #df_PurchasesSeller.index,\n",
    "    title = 'Seller',\n",
    "    labels = ['Third Party', 'Amazon'],\n",
    "    loc = 'center left',\n",
    "    bbox_to_anchor = (0.75,0,0.5,1)    \n",
    ")\n",
    "ax.set_title('Purchases by Seller')\n",
    "ax.axis('equal')\n",
    "plt.show()\n",
    "#ax.figure.savefig('./img/PurchasesBySeller.png', bbox_inches='tight', dpi=150)"
   ]
  },
  {
   "cell_type": "code",
   "execution_count": 36,
   "metadata": {},
   "outputs": [
    {
     "data": {
      "text/plain": [
       "Category\n",
       "Unknown              2092.30\n",
       "Sports & Outdoor      831.09\n",
       "Other                1481.07\n",
       "Office                504.44\n",
       "Home                 2215.82\n",
       "Health & Beauty      3059.04\n",
       "Grocery               481.91\n",
       "Entertainment          61.16\n",
       "Electronics          4208.20\n",
       "Computer            10519.35\n",
       "Books                1519.07\n",
       "Auto & Tools          533.80\n",
       "Apparel              2850.16\n",
       "Name: ItemTotal, dtype: float64"
      ]
     },
     "execution_count": 36,
     "metadata": {},
     "output_type": "execute_result"
    }
   ],
   "source": [
    "# Purchases by Category\n",
    "# Note: it is necessary to sort by reverse in the df so the plot can be arranged alphabetically\n",
    "# from top to bottom\n",
    "\n",
    "df_CategoryTotal = df[['Category', 'ItemTotal']]\n",
    "df_CategoryTotal = df_CategoryTotal.groupby('Category')\n",
    "df_CategoryTotal = df_CategoryTotal['ItemTotal'].sum()\n",
    "df_CategoryTotal = df_CategoryTotal.sort_index(ascending = False)\n",
    "df_CategoryTotal"
   ]
  },
  {
   "cell_type": "code",
   "execution_count": 72,
   "metadata": {},
   "outputs": [
    {
     "data": {
      "image/png": "[encoded data removed]",
      "text/plain": [
       "<Figure size 1440x504 with 1 Axes>"
      ]
     },
     "metadata": {
      "needs_background": "light"
     },
     "output_type": "display_data"
    }
   ],
   "source": [
    "# Plot purchases by category\n",
    "\n",
    "fig,ax = plt.subplots(figsize = (20,7))\n",
    "ax.barh(df_CategoryTotal.index, df_CategoryTotal.values, color = 'steelblue')\n",
    "ax.set_title('Purchases by Category')\n",
    "\n",
    "# x-axis\n",
    "ax.set_xlabel('$ Amount')\n",
    "plt.xticks([x for x in range(0, round(max(df_CategoryTotal.values)), 1000)])\n",
    "ax.xaxis.set_major_formatter(\n",
    "    ticker.FuncFormatter(lambda x,p: format(int(x), ','))\n",
    ")\n",
    "\n",
    "# y-axis\n",
    "ax.set_ylabel('Category')\n",
    "\n",
    "# labels\n",
    "for i,j in zip(df_CategoryTotal.index, df_CategoryTotal.values):\n",
    "    ax.annotate(' $ '+format(int(j), ','), xy=(j,i), va='center', ha='left')\n",
    "\n",
    "plt.show()\n",
    "#ax.figure.savefig('./img/PurchasesByCategory.png', bbox_inches='tight', dpi=150)"
   ]
  },
  {
   "cell_type": "code",
   "execution_count": 49,
   "metadata": {},
   "outputs": [
    {
     "data": {
      "text/html": [
       "<div>\n",
       "<style scoped>\n",
       "    .dataframe tbody tr th:only-of-type {\n",
       "        vertical-align: middle;\n",
       "    }\n",
       "\n",
       "    .dataframe tbody tr th {\n",
       "        vertical-align: top;\n",
       "    }\n",
       "\n",
       "    .dataframe thead th {\n",
       "        text-align: right;\n",
       "    }\n",
       "</style>\n",
       "<table border=\"1\" class=\"dataframe\">\n",
       "  <thead>\n",
       "    <tr style=\"text-align: right;\">\n",
       "      <th></th>\n",
       "      <th>Category</th>\n",
       "      <th>ItemTotal</th>\n",
       "      <th>Share</th>\n",
       "    </tr>\n",
       "  </thead>\n",
       "  <tbody>\n",
       "    <tr>\n",
       "      <th>12</th>\n",
       "      <td>Unknown</td>\n",
       "      <td>2092.30</td>\n",
       "      <td>6.892222</td>\n",
       "    </tr>\n",
       "    <tr>\n",
       "      <th>11</th>\n",
       "      <td>Sports &amp; Outdoor</td>\n",
       "      <td>831.09</td>\n",
       "      <td>2.737684</td>\n",
       "    </tr>\n",
       "    <tr>\n",
       "      <th>10</th>\n",
       "      <td>Other</td>\n",
       "      <td>1481.07</td>\n",
       "      <td>4.878776</td>\n",
       "    </tr>\n",
       "    <tr>\n",
       "      <th>9</th>\n",
       "      <td>Office</td>\n",
       "      <td>504.44</td>\n",
       "      <td>1.661670</td>\n",
       "    </tr>\n",
       "    <tr>\n",
       "      <th>8</th>\n",
       "      <td>Home</td>\n",
       "      <td>2215.82</td>\n",
       "      <td>7.299108</td>\n",
       "    </tr>\n",
       "    <tr>\n",
       "      <th>7</th>\n",
       "      <td>Health &amp; Beauty</td>\n",
       "      <td>3059.04</td>\n",
       "      <td>10.076749</td>\n",
       "    </tr>\n",
       "    <tr>\n",
       "      <th>6</th>\n",
       "      <td>Grocery</td>\n",
       "      <td>481.91</td>\n",
       "      <td>1.587454</td>\n",
       "    </tr>\n",
       "    <tr>\n",
       "      <th>5</th>\n",
       "      <td>Entertainment</td>\n",
       "      <td>61.16</td>\n",
       "      <td>0.201466</td>\n",
       "    </tr>\n",
       "    <tr>\n",
       "      <th>4</th>\n",
       "      <td>Electronics</td>\n",
       "      <td>4208.20</td>\n",
       "      <td>13.862184</td>\n",
       "    </tr>\n",
       "    <tr>\n",
       "      <th>3</th>\n",
       "      <td>Computer</td>\n",
       "      <td>10519.35</td>\n",
       "      <td>34.651672</td>\n",
       "    </tr>\n",
       "    <tr>\n",
       "      <th>2</th>\n",
       "      <td>Books</td>\n",
       "      <td>1519.07</td>\n",
       "      <td>5.003951</td>\n",
       "    </tr>\n",
       "    <tr>\n",
       "      <th>1</th>\n",
       "      <td>Auto &amp; Tools</td>\n",
       "      <td>533.80</td>\n",
       "      <td>1.758385</td>\n",
       "    </tr>\n",
       "    <tr>\n",
       "      <th>0</th>\n",
       "      <td>Apparel</td>\n",
       "      <td>2850.16</td>\n",
       "      <td>9.388680</td>\n",
       "    </tr>\n",
       "  </tbody>\n",
       "</table>\n",
       "</div>"
      ],
      "text/plain": [
       "            Category  ItemTotal      Share\n",
       "12           Unknown    2092.30   6.892222\n",
       "11  Sports & Outdoor     831.09   2.737684\n",
       "10             Other    1481.07   4.878776\n",
       "9             Office     504.44   1.661670\n",
       "8               Home    2215.82   7.299108\n",
       "7    Health & Beauty    3059.04  10.076749\n",
       "6            Grocery     481.91   1.587454\n",
       "5      Entertainment      61.16   0.201466\n",
       "4        Electronics    4208.20  13.862184\n",
       "3           Computer   10519.35  34.651672\n",
       "2              Books    1519.07   5.003951\n",
       "1       Auto & Tools     533.80   1.758385\n",
       "0            Apparel    2850.16   9.388680"
      ]
     },
     "execution_count": 49,
     "metadata": {},
     "output_type": "execute_result"
    }
   ],
   "source": [
    "# Purchases by category share\n",
    "\n",
    "df_CategoryShare = df[['Category', 'ItemTotal']]\n",
    "df_CategoryShare = df_CategoryShare.groupby('Category', as_index = False)\n",
    "df_CategoryShare = df_CategoryShare['ItemTotal'].sum()\n",
    "df_CategoryShare['Share'] = df_CategoryShare['ItemTotal'].div(df_CategoryShare['ItemTotal'].sum())*100\n",
    "df_CategoryShare = df_CategoryShare.sort_values('Category', ascending = False)\n",
    "df_CategoryShare"
   ]
  },
  {
   "cell_type": "code",
   "execution_count": 74,
   "metadata": {},
   "outputs": [
    {
     "data": {
      "image/png": "[encoded data removed]",
      "text/plain": [
       "<Figure size 1440x504 with 1 Axes>"
      ]
     },
     "metadata": {
      "needs_background": "light"
     },
     "output_type": "display_data"
    }
   ],
   "source": [
    "# Plot purchases by category share\n",
    "\n",
    "fig,ax = plt.subplots(figsize = (20,7))\n",
    "ax.barh(df_CategoryShare['Category'],df_CategoryShare['Share'], color = 'steelblue')\n",
    "ax.set_title('Purchases by Category Share')\n",
    "\n",
    "# x-axis\n",
    "ax.xaxis.set_major_formatter(\n",
    "    ticker.FuncFormatter(lambda x,p: format(int(x))+ ' %')\n",
    ")\n",
    "\n",
    "# y-axis\n",
    "ax.set_ylabel('Category')\n",
    "\n",
    "# labels\n",
    "for i,j in zip(df_CategoryShare.Category, df_CategoryShare.Share):\n",
    "    ax.annotate(' '+format(round(j, 1))+' %', xy=(j,i), va='center', ha='left')\n",
    "\n",
    "plt.show()\n",
    "#ax.figure.savefig('./img/PurchasesByCategoryShare.png', bbox_inches='tight', dpi=150)"
   ]
  },
  {
   "cell_type": "code",
   "execution_count": 76,
   "metadata": {},
   "outputs": [
    {
     "data": {
      "text/html": [
       "<div>\n",
       "<style scoped>\n",
       "    .dataframe tbody tr th:only-of-type {\n",
       "        vertical-align: middle;\n",
       "    }\n",
       "\n",
       "    .dataframe tbody tr th {\n",
       "        vertical-align: top;\n",
       "    }\n",
       "\n",
       "    .dataframe thead th {\n",
       "        text-align: right;\n",
       "    }\n",
       "</style>\n",
       "<table border=\"1\" class=\"dataframe\">\n",
       "  <thead>\n",
       "    <tr style=\"text-align: right;\">\n",
       "      <th></th>\n",
       "      <th>OrderDayName</th>\n",
       "      <th>OrderDayIndex</th>\n",
       "      <th>ItemTotal</th>\n",
       "    </tr>\n",
       "  </thead>\n",
       "  <tbody>\n",
       "    <tr>\n",
       "      <th>1</th>\n",
       "      <td>Monday</td>\n",
       "      <td>0</td>\n",
       "      <td>6787.06</td>\n",
       "    </tr>\n",
       "    <tr>\n",
       "      <th>5</th>\n",
       "      <td>Tuesday</td>\n",
       "      <td>1</td>\n",
       "      <td>4378.23</td>\n",
       "    </tr>\n",
       "    <tr>\n",
       "      <th>6</th>\n",
       "      <td>Wednesday</td>\n",
       "      <td>2</td>\n",
       "      <td>3476.16</td>\n",
       "    </tr>\n",
       "    <tr>\n",
       "      <th>4</th>\n",
       "      <td>Thursday</td>\n",
       "      <td>3</td>\n",
       "      <td>4260.84</td>\n",
       "    </tr>\n",
       "    <tr>\n",
       "      <th>0</th>\n",
       "      <td>Friday</td>\n",
       "      <td>4</td>\n",
       "      <td>4073.42</td>\n",
       "    </tr>\n",
       "    <tr>\n",
       "      <th>2</th>\n",
       "      <td>Saturday</td>\n",
       "      <td>5</td>\n",
       "      <td>2965.26</td>\n",
       "    </tr>\n",
       "    <tr>\n",
       "      <th>3</th>\n",
       "      <td>Sunday</td>\n",
       "      <td>6</td>\n",
       "      <td>4416.44</td>\n",
       "    </tr>\n",
       "  </tbody>\n",
       "</table>\n",
       "</div>"
      ],
      "text/plain": [
       "  OrderDayName  OrderDayIndex  ItemTotal\n",
       "1       Monday              0    6787.06\n",
       "5      Tuesday              1    4378.23\n",
       "6    Wednesday              2    3476.16\n",
       "4     Thursday              3    4260.84\n",
       "0       Friday              4    4073.42\n",
       "2     Saturday              5    2965.26\n",
       "3       Sunday              6    4416.44"
      ]
     },
     "execution_count": 76,
     "metadata": {},
     "output_type": "execute_result"
    }
   ],
   "source": [
    "# Purchases by day of week\n",
    "\n",
    "df_DayPur = df[['OrderDayIndex','OrderDayName','ItemTotal']]\n",
    "df_DayPur = df_DayPur.groupby(['OrderDayName','OrderDayIndex'], as_index = False)\n",
    "df_DayPur = df_DayPur['ItemTotal'].sum()\n",
    "df_DayPur = df_DayPur.sort_values('OrderDayIndex')\n",
    "df_DayPur"
   ]
  },
  {
   "cell_type": "code",
   "execution_count": 79,
   "metadata": {},
   "outputs": [
    {
     "data": {
      "image/png": "[encoded data removed]",
      "text/plain": [
       "<Figure size 1080x360 with 1 Axes>"
      ]
     },
     "metadata": {
      "needs_background": "light"
     },
     "output_type": "display_data"
    }
   ],
   "source": [
    "# Plot purchases by day of week\n",
    "\n",
    "fig,ax = plt.subplots(figsize = (15,5))\n",
    "ax.bar(df_DayPur['OrderDayName'],df_DayPur['ItemTotal'], color = 'steelblue', width = .50)\n",
    "ax.set_title('Purchases by Day')\n",
    "\n",
    "# x-axis\n",
    "plt.xticks(rotation = 0)\n",
    "\n",
    "# y-axis\n",
    "ax.set_ylabel('$ Amount')\n",
    "ax.yaxis.set_major_formatter(\n",
    "    ticker.FuncFormatter(lambda y,p: format(int(y), ','))\n",
    ")\n",
    "\n",
    "# labels\n",
    "for i,j in zip(df_DayPur['OrderDayName'], df_DayPur['ItemTotal']):\n",
    "    ax.annotate(format(int(j), ','), xy=(i,j), va='bottom', ha='center')\n",
    "\n",
    "plt.show()\n",
    "#ax.figure.savefig('./img/PurchasesByDay.png', bbox_inches='tight', dpi=150)"
   ]
  },
  {
   "cell_type": "code",
   "execution_count": 73,
   "metadata": {},
   "outputs": [
    {
     "data": {
      "text/html": [
       "<div>\n",
       "<style scoped>\n",
       "    .dataframe tbody tr th:only-of-type {\n",
       "        vertical-align: middle;\n",
       "    }\n",
       "\n",
       "    .dataframe tbody tr th {\n",
       "        vertical-align: top;\n",
       "    }\n",
       "\n",
       "    .dataframe thead th {\n",
       "        text-align: right;\n",
       "    }\n",
       "</style>\n",
       "<table border=\"1\" class=\"dataframe\">\n",
       "  <thead>\n",
       "    <tr style=\"text-align: right;\">\n",
       "      <th></th>\n",
       "      <th>OrderYear</th>\n",
       "      <th>ItemTotal</th>\n",
       "    </tr>\n",
       "  </thead>\n",
       "  <tbody>\n",
       "    <tr>\n",
       "      <th>0</th>\n",
       "      <td>2008</td>\n",
       "      <td>117.09</td>\n",
       "    </tr>\n",
       "    <tr>\n",
       "      <th>1</th>\n",
       "      <td>2009</td>\n",
       "      <td>456.85</td>\n",
       "    </tr>\n",
       "    <tr>\n",
       "      <th>2</th>\n",
       "      <td>2010</td>\n",
       "      <td>2421.77</td>\n",
       "    </tr>\n",
       "    <tr>\n",
       "      <th>3</th>\n",
       "      <td>2011</td>\n",
       "      <td>7176.93</td>\n",
       "    </tr>\n",
       "    <tr>\n",
       "      <th>4</th>\n",
       "      <td>2012</td>\n",
       "      <td>3651.85</td>\n",
       "    </tr>\n",
       "    <tr>\n",
       "      <th>5</th>\n",
       "      <td>2013</td>\n",
       "      <td>3689.19</td>\n",
       "    </tr>\n",
       "    <tr>\n",
       "      <th>6</th>\n",
       "      <td>2014</td>\n",
       "      <td>2075.99</td>\n",
       "    </tr>\n",
       "    <tr>\n",
       "      <th>7</th>\n",
       "      <td>2015</td>\n",
       "      <td>1257.52</td>\n",
       "    </tr>\n",
       "    <tr>\n",
       "      <th>8</th>\n",
       "      <td>2016</td>\n",
       "      <td>823.48</td>\n",
       "    </tr>\n",
       "    <tr>\n",
       "      <th>9</th>\n",
       "      <td>2017</td>\n",
       "      <td>1392.77</td>\n",
       "    </tr>\n",
       "    <tr>\n",
       "      <th>10</th>\n",
       "      <td>2018</td>\n",
       "      <td>2689.12</td>\n",
       "    </tr>\n",
       "    <tr>\n",
       "      <th>11</th>\n",
       "      <td>2019</td>\n",
       "      <td>4604.85</td>\n",
       "    </tr>\n",
       "  </tbody>\n",
       "</table>\n",
       "</div>"
      ],
      "text/plain": [
       "    OrderYear  ItemTotal\n",
       "0        2008     117.09\n",
       "1        2009     456.85\n",
       "2        2010    2421.77\n",
       "3        2011    7176.93\n",
       "4        2012    3651.85\n",
       "5        2013    3689.19\n",
       "6        2014    2075.99\n",
       "7        2015    1257.52\n",
       "8        2016     823.48\n",
       "9        2017    1392.77\n",
       "10       2018    2689.12\n",
       "11       2019    4604.85"
      ]
     },
     "execution_count": 73,
     "metadata": {},
     "output_type": "execute_result"
    }
   ],
   "source": [
    "# Avg transaction value by year\n",
    "\n",
    "df_YearAvgTrans = df[['OrderYear','ItemTotal']]\n",
    "df_YearAvgTrans = df_YearAvgTrans.groupby(['OrderYear'], as_index = False)\n",
    "df_YearAvgTrans = df_YearAvgTrans['ItemTotal'].sum()\n",
    "df_YearAvgTrans"
   ]
  },
  {
   "cell_type": "code",
   "execution_count": 74,
   "metadata": {},
   "outputs": [
    {
     "data": {
      "text/plain": [
       "OrderYear\n",
       "2008      9\n",
       "2009     15\n",
       "2010     83\n",
       "2011     96\n",
       "2012     96\n",
       "2013     89\n",
       "2014     48\n",
       "2015     59\n",
       "2016     36\n",
       "2017     68\n",
       "2018     69\n",
       "2019    113\n",
       "dtype: int64"
      ]
     },
     "execution_count": 74,
     "metadata": {},
     "output_type": "execute_result"
    }
   ],
   "source": [
    "df_NumTransYear = df[['OrderYear', 'OrderID']].groupby('OrderYear').size()\n",
    "df_NumTransYear"
   ]
  },
  {
   "cell_type": "code",
   "execution_count": 75,
   "metadata": {},
   "outputs": [
    {
     "data": {
      "text/html": [
       "<div>\n",
       "<style scoped>\n",
       "    .dataframe tbody tr th:only-of-type {\n",
       "        vertical-align: middle;\n",
       "    }\n",
       "\n",
       "    .dataframe tbody tr th {\n",
       "        vertical-align: top;\n",
       "    }\n",
       "\n",
       "    .dataframe thead th {\n",
       "        text-align: right;\n",
       "    }\n",
       "</style>\n",
       "<table border=\"1\" class=\"dataframe\">\n",
       "  <thead>\n",
       "    <tr style=\"text-align: right;\">\n",
       "      <th></th>\n",
       "      <th>OrderYear</th>\n",
       "      <th>ItemTotal</th>\n",
       "      <th>Trans</th>\n",
       "    </tr>\n",
       "  </thead>\n",
       "  <tbody>\n",
       "    <tr>\n",
       "      <th>0</th>\n",
       "      <td>2008</td>\n",
       "      <td>117.09</td>\n",
       "      <td>9</td>\n",
       "    </tr>\n",
       "    <tr>\n",
       "      <th>1</th>\n",
       "      <td>2009</td>\n",
       "      <td>456.85</td>\n",
       "      <td>15</td>\n",
       "    </tr>\n",
       "    <tr>\n",
       "      <th>2</th>\n",
       "      <td>2010</td>\n",
       "      <td>2421.77</td>\n",
       "      <td>83</td>\n",
       "    </tr>\n",
       "    <tr>\n",
       "      <th>3</th>\n",
       "      <td>2011</td>\n",
       "      <td>7176.93</td>\n",
       "      <td>96</td>\n",
       "    </tr>\n",
       "    <tr>\n",
       "      <th>4</th>\n",
       "      <td>2012</td>\n",
       "      <td>3651.85</td>\n",
       "      <td>96</td>\n",
       "    </tr>\n",
       "    <tr>\n",
       "      <th>5</th>\n",
       "      <td>2013</td>\n",
       "      <td>3689.19</td>\n",
       "      <td>89</td>\n",
       "    </tr>\n",
       "    <tr>\n",
       "      <th>6</th>\n",
       "      <td>2014</td>\n",
       "      <td>2075.99</td>\n",
       "      <td>48</td>\n",
       "    </tr>\n",
       "    <tr>\n",
       "      <th>7</th>\n",
       "      <td>2015</td>\n",
       "      <td>1257.52</td>\n",
       "      <td>59</td>\n",
       "    </tr>\n",
       "    <tr>\n",
       "      <th>8</th>\n",
       "      <td>2016</td>\n",
       "      <td>823.48</td>\n",
       "      <td>36</td>\n",
       "    </tr>\n",
       "    <tr>\n",
       "      <th>9</th>\n",
       "      <td>2017</td>\n",
       "      <td>1392.77</td>\n",
       "      <td>68</td>\n",
       "    </tr>\n",
       "    <tr>\n",
       "      <th>10</th>\n",
       "      <td>2018</td>\n",
       "      <td>2689.12</td>\n",
       "      <td>69</td>\n",
       "    </tr>\n",
       "    <tr>\n",
       "      <th>11</th>\n",
       "      <td>2019</td>\n",
       "      <td>4604.85</td>\n",
       "      <td>113</td>\n",
       "    </tr>\n",
       "  </tbody>\n",
       "</table>\n",
       "</div>"
      ],
      "text/plain": [
       "    OrderYear  ItemTotal  Trans\n",
       "0        2008     117.09      9\n",
       "1        2009     456.85     15\n",
       "2        2010    2421.77     83\n",
       "3        2011    7176.93     96\n",
       "4        2012    3651.85     96\n",
       "5        2013    3689.19     89\n",
       "6        2014    2075.99     48\n",
       "7        2015    1257.52     59\n",
       "8        2016     823.48     36\n",
       "9        2017    1392.77     68\n",
       "10       2018    2689.12     69\n",
       "11       2019    4604.85    113"
      ]
     },
     "execution_count": 75,
     "metadata": {},
     "output_type": "execute_result"
    }
   ],
   "source": [
    "df_YearAvgTrans['Trans'] = df_NumTransYear.values\n",
    "df_YearAvgTrans"
   ]
  },
  {
   "cell_type": "code",
   "execution_count": 76,
   "metadata": {},
   "outputs": [
    {
     "data": {
      "text/html": [
       "<div>\n",
       "<style scoped>\n",
       "    .dataframe tbody tr th:only-of-type {\n",
       "        vertical-align: middle;\n",
       "    }\n",
       "\n",
       "    .dataframe tbody tr th {\n",
       "        vertical-align: top;\n",
       "    }\n",
       "\n",
       "    .dataframe thead th {\n",
       "        text-align: right;\n",
       "    }\n",
       "</style>\n",
       "<table border=\"1\" class=\"dataframe\">\n",
       "  <thead>\n",
       "    <tr style=\"text-align: right;\">\n",
       "      <th></th>\n",
       "      <th>OrderYear</th>\n",
       "      <th>ItemTotal</th>\n",
       "      <th>Trans</th>\n",
       "      <th>AvgPerTrans</th>\n",
       "    </tr>\n",
       "  </thead>\n",
       "  <tbody>\n",
       "    <tr>\n",
       "      <th>0</th>\n",
       "      <td>2008</td>\n",
       "      <td>117.09</td>\n",
       "      <td>9</td>\n",
       "      <td>13.01</td>\n",
       "    </tr>\n",
       "    <tr>\n",
       "      <th>1</th>\n",
       "      <td>2009</td>\n",
       "      <td>456.85</td>\n",
       "      <td>15</td>\n",
       "      <td>30.46</td>\n",
       "    </tr>\n",
       "    <tr>\n",
       "      <th>2</th>\n",
       "      <td>2010</td>\n",
       "      <td>2421.77</td>\n",
       "      <td>83</td>\n",
       "      <td>29.18</td>\n",
       "    </tr>\n",
       "    <tr>\n",
       "      <th>3</th>\n",
       "      <td>2011</td>\n",
       "      <td>7176.93</td>\n",
       "      <td>96</td>\n",
       "      <td>74.76</td>\n",
       "    </tr>\n",
       "    <tr>\n",
       "      <th>4</th>\n",
       "      <td>2012</td>\n",
       "      <td>3651.85</td>\n",
       "      <td>96</td>\n",
       "      <td>38.04</td>\n",
       "    </tr>\n",
       "    <tr>\n",
       "      <th>5</th>\n",
       "      <td>2013</td>\n",
       "      <td>3689.19</td>\n",
       "      <td>89</td>\n",
       "      <td>41.45</td>\n",
       "    </tr>\n",
       "    <tr>\n",
       "      <th>6</th>\n",
       "      <td>2014</td>\n",
       "      <td>2075.99</td>\n",
       "      <td>48</td>\n",
       "      <td>43.25</td>\n",
       "    </tr>\n",
       "    <tr>\n",
       "      <th>7</th>\n",
       "      <td>2015</td>\n",
       "      <td>1257.52</td>\n",
       "      <td>59</td>\n",
       "      <td>21.31</td>\n",
       "    </tr>\n",
       "    <tr>\n",
       "      <th>8</th>\n",
       "      <td>2016</td>\n",
       "      <td>823.48</td>\n",
       "      <td>36</td>\n",
       "      <td>22.87</td>\n",
       "    </tr>\n",
       "    <tr>\n",
       "      <th>9</th>\n",
       "      <td>2017</td>\n",
       "      <td>1392.77</td>\n",
       "      <td>68</td>\n",
       "      <td>20.48</td>\n",
       "    </tr>\n",
       "    <tr>\n",
       "      <th>10</th>\n",
       "      <td>2018</td>\n",
       "      <td>2689.12</td>\n",
       "      <td>69</td>\n",
       "      <td>38.97</td>\n",
       "    </tr>\n",
       "    <tr>\n",
       "      <th>11</th>\n",
       "      <td>2019</td>\n",
       "      <td>4604.85</td>\n",
       "      <td>113</td>\n",
       "      <td>40.75</td>\n",
       "    </tr>\n",
       "  </tbody>\n",
       "</table>\n",
       "</div>"
      ],
      "text/plain": [
       "    OrderYear  ItemTotal  Trans  AvgPerTrans\n",
       "0        2008     117.09      9        13.01\n",
       "1        2009     456.85     15        30.46\n",
       "2        2010    2421.77     83        29.18\n",
       "3        2011    7176.93     96        74.76\n",
       "4        2012    3651.85     96        38.04\n",
       "5        2013    3689.19     89        41.45\n",
       "6        2014    2075.99     48        43.25\n",
       "7        2015    1257.52     59        21.31\n",
       "8        2016     823.48     36        22.87\n",
       "9        2017    1392.77     68        20.48\n",
       "10       2018    2689.12     69        38.97\n",
       "11       2019    4604.85    113        40.75"
      ]
     },
     "execution_count": 76,
     "metadata": {},
     "output_type": "execute_result"
    }
   ],
   "source": [
    "df_YearAvgTrans['AvgPerTrans'] = df_YearAvgTrans['ItemTotal'].div(df_YearAvgTrans['Trans']).round(2)\n",
    "df_YearAvgTrans"
   ]
  },
  {
   "cell_type": "code",
   "execution_count": 77,
   "metadata": {},
   "outputs": [],
   "source": [
    "# All of the above can be done more quickly using the following:\n",
    "\n",
    "#df_YearAvgTrans = df[['OrderYear','ItemTotal']]\n",
    "#df_YearAvgTrans = df_YearAvgTrans.groupby(['OrderYear'], as_index = False)['ItemTotal'].sum()\n",
    "\n",
    "#df_YearOrders = df[['OrderYear','ItemTotal']].groupby('OrderYear')['ItemTotal'].size()\n",
    "#df_YearAvgTrans['Trans'] = df_YearOrders.values\n",
    "\n",
    "#df_YearAvgTrans['AvgTrans'] = df_YearAvgTrans['ItemTotal'].div(df_YearAvgTrans['Trans'])\n",
    "#df_YearAvgTrans"
   ]
  },
  {
   "cell_type": "code",
   "execution_count": 89,
   "metadata": {},
   "outputs": [
    {
     "data": {
      "image/png": "[encoded data removed]",
      "text/plain": [
       "<Figure size 1080x360 with 1 Axes>"
      ]
     },
     "metadata": {
      "needs_background": "light"
     },
     "output_type": "display_data"
    }
   ],
   "source": [
    "# Plot average per transaction by year\n",
    "\n",
    "fig, ax = plt.subplots(figsize = (15,5))\n",
    "ax.bar(df_YearAvgTrans['OrderYear'],df_YearAvgTrans['AvgPerTrans'], color = 'steelblue')\n",
    "ax.set_title('Average per Transaction by Year')\n",
    "\n",
    "# x-axis\n",
    "plt.xticks([x for x in df_YearAvgTrans['OrderYear']], rotation = 0)\n",
    "    \n",
    "# y-axis\n",
    "ax.yaxis.set_major_formatter(\n",
    "    ticker.FuncFormatter(lambda y,p: '$ '+format(int(y), ','))\n",
    ")\n",
    "\n",
    "# labels\n",
    "for i,j in zip(df_YearAvgTrans['OrderYear'], df_YearAvgTrans['AvgPerTrans']):\n",
    "    ax.annotate(' $ '+format(int(j), ','), xy=(i,j), va='bottom', ha='center')\n",
    "\n",
    "plt.show()\n",
    "#ax.figure.savefig('./img/AveragePerTransPerYear.png', bbox_inches='tight', dpi=150)"
   ]
  },
  {
   "cell_type": "code",
   "execution_count": 79,
   "metadata": {},
   "outputs": [
    {
     "data": {
      "text/plain": [
       "USPS                    273\n",
       "UPS Mail Innovations      5\n",
       "UPS                     170\n",
       "Other                    98\n",
       "FedEx SmartPost           4\n",
       "FedEx                    22\n",
       "DHL                       9\n",
       "AMZN                    200\n",
       "Name: Carrier, dtype: int64"
      ]
     },
     "execution_count": 79,
     "metadata": {},
     "output_type": "execute_result"
    }
   ],
   "source": [
    "# Shipping method\n",
    "\n",
    "df_Carriers = df['Carrier']\n",
    "CarrierVC = df_Carriers.value_counts()\n",
    "CarrierVC = CarrierVC.sort_index(ascending = False)\n",
    "CarrierVC"
   ]
  },
  {
   "cell_type": "code",
   "execution_count": 97,
   "metadata": {},
   "outputs": [
    {
     "data": {
      "image/png": "[encoded data removed]",
      "text/plain": [
       "<Figure size 1080x360 with 1 Axes>"
      ]
     },
     "metadata": {
      "needs_background": "light"
     },
     "output_type": "display_data"
    }
   ],
   "source": [
    "# Plot of shipping method\n",
    "\n",
    "fig,ax = plt.subplots(figsize = (15, 5))\n",
    "ax.barh(CarrierVC.index, CarrierVC.values, color = 'steelblue')\n",
    "ax.set_title('Orders by Carrier')\n",
    "\n",
    "# labels\n",
    "for i,j in zip(CarrierVC.index, CarrierVC.values):\n",
    "    ax.annotate(' '+format(int(j), ','), xy=(j,i), va='center', ha='left')\n",
    "\n",
    "plt.show()\n",
    "#ax.figure.savefig('./img/ShippingMethod.png', bbox_inches='tight', dpi=150)"
   ]
  },
  {
   "cell_type": "code",
   "execution_count": 94,
   "metadata": {},
   "outputs": [
    {
     "data": {
      "text/html": [
       "<div>\n",
       "<style scoped>\n",
       "    .dataframe tbody tr th:only-of-type {\n",
       "        vertical-align: middle;\n",
       "    }\n",
       "\n",
       "    .dataframe tbody tr th {\n",
       "        vertical-align: top;\n",
       "    }\n",
       "\n",
       "    .dataframe thead th {\n",
       "        text-align: right;\n",
       "    }\n",
       "</style>\n",
       "<table border=\"1\" class=\"dataframe\">\n",
       "  <thead>\n",
       "    <tr style=\"text-align: right;\">\n",
       "      <th></th>\n",
       "      <th>Carrier</th>\n",
       "      <th>ItemTotal</th>\n",
       "      <th>NumTrans</th>\n",
       "      <th>AvgPerTrans</th>\n",
       "    </tr>\n",
       "  </thead>\n",
       "  <tbody>\n",
       "    <tr>\n",
       "      <th>7</th>\n",
       "      <td>USPS</td>\n",
       "      <td>6594.03</td>\n",
       "      <td>273</td>\n",
       "      <td>24.15</td>\n",
       "    </tr>\n",
       "    <tr>\n",
       "      <th>6</th>\n",
       "      <td>UPS Mail Innovations</td>\n",
       "      <td>57.62</td>\n",
       "      <td>5</td>\n",
       "      <td>11.52</td>\n",
       "    </tr>\n",
       "    <tr>\n",
       "      <th>5</th>\n",
       "      <td>UPS</td>\n",
       "      <td>10874.11</td>\n",
       "      <td>170</td>\n",
       "      <td>63.97</td>\n",
       "    </tr>\n",
       "    <tr>\n",
       "      <th>4</th>\n",
       "      <td>Other</td>\n",
       "      <td>4113.09</td>\n",
       "      <td>98</td>\n",
       "      <td>41.97</td>\n",
       "    </tr>\n",
       "    <tr>\n",
       "      <th>3</th>\n",
       "      <td>FedEx SmartPost</td>\n",
       "      <td>100.26</td>\n",
       "      <td>4</td>\n",
       "      <td>25.06</td>\n",
       "    </tr>\n",
       "    <tr>\n",
       "      <th>2</th>\n",
       "      <td>FedEx</td>\n",
       "      <td>1948.20</td>\n",
       "      <td>22</td>\n",
       "      <td>88.55</td>\n",
       "    </tr>\n",
       "    <tr>\n",
       "      <th>1</th>\n",
       "      <td>DHL</td>\n",
       "      <td>89.71</td>\n",
       "      <td>9</td>\n",
       "      <td>9.97</td>\n",
       "    </tr>\n",
       "    <tr>\n",
       "      <th>0</th>\n",
       "      <td>AMZN</td>\n",
       "      <td>6580.39</td>\n",
       "      <td>200</td>\n",
       "      <td>32.90</td>\n",
       "    </tr>\n",
       "  </tbody>\n",
       "</table>\n",
       "</div>"
      ],
      "text/plain": [
       "                Carrier  ItemTotal  NumTrans  AvgPerTrans\n",
       "7                  USPS    6594.03       273        24.15\n",
       "6  UPS Mail Innovations      57.62         5        11.52\n",
       "5                   UPS   10874.11       170        63.97\n",
       "4                 Other    4113.09        98        41.97\n",
       "3       FedEx SmartPost     100.26         4        25.06\n",
       "2                 FedEx    1948.20        22        88.55\n",
       "1                   DHL      89.71         9         9.97\n",
       "0                  AMZN    6580.39       200        32.90"
      ]
     },
     "execution_count": 94,
     "metadata": {},
     "output_type": "execute_result"
    }
   ],
   "source": [
    "# Shipping method and avg transaction cost\n",
    "\n",
    "df_CarrierTotal = df[['Carrier', 'ItemTotal']]\n",
    "df_CarrierTotal = df_CarrierTotal.groupby('Carrier', as_index = False)['ItemTotal'].sum()\n",
    "\n",
    "df_CarrierTrans = df[['Carrier', 'ItemTotal']].groupby('Carrier')['ItemTotal'].size()\n",
    "df_CarrierTotal['NumTrans'] = df_CarrierTrans.values\n",
    "\n",
    "df_CarrierTotal['AvgPerTrans'] = df_CarrierTotal['ItemTotal'].div(df_CarrierTotal['NumTrans']).round(2)\n",
    "\n",
    "df_CarrierTotal = df_CarrierTotal.sort_values('Carrier', ascending = False)\n",
    "df_CarrierTotal"
   ]
  },
  {
   "cell_type": "code",
   "execution_count": 99,
   "metadata": {},
   "outputs": [
    {
     "data": {
      "image/png": "[encoded data removed]",
      "text/plain": [
       "<Figure size 1080x360 with 1 Axes>"
      ]
     },
     "metadata": {
      "needs_background": "light"
     },
     "output_type": "display_data"
    }
   ],
   "source": [
    "# Plot shipping method and avg transaction cost\n",
    "\n",
    "fig,ax = plt.subplots(figsize = (15,5))\n",
    "ax.barh(df_CarrierTotal['Carrier'], df_CarrierTotal['AvgPerTrans'], color = 'steelblue')\n",
    "ax.set_title('Average Price Per Transaction by Carrier')\n",
    "\n",
    "# x-axis\n",
    "ax.xaxis.set_major_formatter(\n",
    "    ticker.FuncFormatter(' $'+format(int()))\n",
    ")\n",
    "\n",
    "# labels\n",
    "for i,j in zip(df_CarrierTotal.Carrier, df_CarrierTotal.AvgPerTrans):\n",
    "    ax.annotate(' '+format(int(j), ','), xy=(j,i), va='center', ha='left')\n",
    "\n",
    "plt.show()\n",
    "ax.figure.savefig('./img/ShippingMethodPrice.png', bbox_inches='tight', dpi=150)"
   ]
  },
  {
   "cell_type": "markdown",
   "metadata": {},
   "source": [
    "## <a id='section4'>4. Data Analysis Using SQL</a>\n",
    "\n",
    "<a href='#home'>Home</a>"
   ]
  },
  {
   "cell_type": "code",
   "execution_count": 156,
   "metadata": {},
   "outputs": [],
   "source": [
    "# Recall that in Part 2, we created an engine to connect to our SQL database.\n",
    "# Below, we show that instead of manipulating data via a Pandas DataFrame, we can do that in SQL first\n",
    "# and then create Pandas DataFrame with the manipulated data."
   ]
  },
  {
   "cell_type": "code",
   "execution_count": 157,
   "metadata": {},
   "outputs": [
    {
     "data": {
      "text/plain": [
       "<sqlalchemy.engine.result.ResultProxy at 0x7fd8c869bc40>"
      ]
     },
     "execution_count": 157,
     "metadata": {},
     "output_type": "execute_result"
    }
   ],
   "source": [
    "tables = engine.execute('SHOW TABLES')\n",
    "tables"
   ]
  },
  {
   "cell_type": "code",
   "execution_count": 158,
   "metadata": {},
   "outputs": [
    {
     "data": {
      "text/plain": [
       "[('purchases',),\n",
       " ('purchases2',),\n",
       " ('purchases_airflow',),\n",
       " ('purchases_airflow_aws',)]"
      ]
     },
     "execution_count": 158,
     "metadata": {},
     "output_type": "execute_result"
    }
   ],
   "source": [
    "tables = [x for x in tables]\n",
    "tables"
   ]
  },
  {
   "cell_type": "code",
   "execution_count": 159,
   "metadata": {},
   "outputs": [],
   "source": [
    "# Confirm data was populated correctly \n",
    "\n",
    "purchases = engine.execute('select * from purchases')\n",
    "#for i in purchases:\n",
    "#    print(i)\n",
    "\n",
    "# or\n",
    "\n",
    "#engine.execute(\"SELECT * FROM purchases2\").fetchall()"
   ]
  },
  {
   "cell_type": "code",
   "execution_count": 160,
   "metadata": {},
   "outputs": [
    {
     "name": "stdout",
     "output_type": "stream",
     "text": [
      "30357.41\n"
     ]
    }
   ],
   "source": [
    "# Cumulative total spent from 2008-2019, inclusive\n",
    "\n",
    "TotalSpent = engine.execute('SELECT SUM(ItemTotal) FROM purchases')\n",
    "TotalSpent = [row for row in TotalSpent]\n",
    "for i in TotalSpent[0]: print(i)"
   ]
  },
  {
   "cell_type": "code",
   "execution_count": 161,
   "metadata": {},
   "outputs": [
    {
     "name": "stdout",
     "output_type": "stream",
     "text": [
      "781\n"
     ]
    }
   ],
   "source": [
    "# Total number of transactions\n",
    "\n",
    "TotalTrans = engine.execute('SELECT COUNT(*) FROM purchases')\n",
    "TotalTrans = [row for row in TotalTrans]\n",
    "for i in TotalTrans[0]: print(i)"
   ]
  },
  {
   "cell_type": "code",
   "execution_count": 162,
   "metadata": {},
   "outputs": [
    {
     "data": {
      "text/plain": [
       "38.86992317541613"
      ]
     },
     "execution_count": 162,
     "metadata": {},
     "output_type": "execute_result"
    }
   ],
   "source": [
    "# Average spent\n",
    "\n",
    "AverageSpent = 30357.41/781\n",
    "AverageSpent"
   ]
  },
  {
   "cell_type": "code",
   "execution_count": 163,
   "metadata": {},
   "outputs": [
    {
     "data": {
      "text/html": [
       "<div>\n",
       "<style scoped>\n",
       "    .dataframe tbody tr th:only-of-type {\n",
       "        vertical-align: middle;\n",
       "    }\n",
       "\n",
       "    .dataframe tbody tr th {\n",
       "        vertical-align: top;\n",
       "    }\n",
       "\n",
       "    .dataframe thead th {\n",
       "        text-align: right;\n",
       "    }\n",
       "</style>\n",
       "<table border=\"1\" class=\"dataframe\">\n",
       "  <thead>\n",
       "    <tr style=\"text-align: right;\">\n",
       "      <th></th>\n",
       "      <th>OrderDate</th>\n",
       "      <th>ItemTotal</th>\n",
       "    </tr>\n",
       "  </thead>\n",
       "  <tbody>\n",
       "    <tr>\n",
       "      <th>0</th>\n",
       "      <td>2008-02-19</td>\n",
       "      <td>38.24</td>\n",
       "    </tr>\n",
       "    <tr>\n",
       "      <th>1</th>\n",
       "      <td>2008-06-03</td>\n",
       "      <td>23.09</td>\n",
       "    </tr>\n",
       "    <tr>\n",
       "      <th>2</th>\n",
       "      <td>2008-11-06</td>\n",
       "      <td>29.86</td>\n",
       "    </tr>\n",
       "    <tr>\n",
       "      <th>3</th>\n",
       "      <td>2008-12-13</td>\n",
       "      <td>25.90</td>\n",
       "    </tr>\n",
       "    <tr>\n",
       "      <th>4</th>\n",
       "      <td>2009-07-18</td>\n",
       "      <td>26.97</td>\n",
       "    </tr>\n",
       "    <tr>\n",
       "      <th>...</th>\n",
       "      <td>...</td>\n",
       "      <td>...</td>\n",
       "    </tr>\n",
       "    <tr>\n",
       "      <th>440</th>\n",
       "      <td>2019-12-13</td>\n",
       "      <td>23.45</td>\n",
       "    </tr>\n",
       "    <tr>\n",
       "      <th>441</th>\n",
       "      <td>2019-12-14</td>\n",
       "      <td>23.33</td>\n",
       "    </tr>\n",
       "    <tr>\n",
       "      <th>442</th>\n",
       "      <td>2019-12-18</td>\n",
       "      <td>28.77</td>\n",
       "    </tr>\n",
       "    <tr>\n",
       "      <th>443</th>\n",
       "      <td>2019-12-19</td>\n",
       "      <td>200.00</td>\n",
       "    </tr>\n",
       "    <tr>\n",
       "      <th>444</th>\n",
       "      <td>2019-12-24</td>\n",
       "      <td>27.18</td>\n",
       "    </tr>\n",
       "  </tbody>\n",
       "</table>\n",
       "<p>445 rows × 2 columns</p>\n",
       "</div>"
      ],
      "text/plain": [
       "      OrderDate ItemTotal\n",
       "0    2008-02-19     38.24\n",
       "1    2008-06-03     23.09\n",
       "2    2008-11-06     29.86\n",
       "3    2008-12-13     25.90\n",
       "4    2009-07-18     26.97\n",
       "..          ...       ...\n",
       "440  2019-12-13     23.45\n",
       "441  2019-12-14     23.33\n",
       "442  2019-12-18     28.77\n",
       "443  2019-12-19    200.00\n",
       "444  2019-12-24     27.18\n",
       "\n",
       "[445 rows x 2 columns]"
      ]
     },
     "execution_count": 163,
     "metadata": {},
     "output_type": "execute_result"
    }
   ],
   "source": [
    "# Use groupby to sum purchases by date\n",
    "\n",
    "OrderDate_ItemTotal = engine.execute('SELECT OrderDate, sum(ItemTotal) FROM purchases GROUP BY OrderDate')\n",
    "OrderDate_ItemTotal = [row for row in OrderDate_ItemTotal]\n",
    "df_OrderDate_ItemTotal = pd.DataFrame.from_records(OrderDate_ItemTotal)\n",
    "df_OrderDate_ItemTotal.columns = ['OrderDate', 'ItemTotal']\n",
    "df_OrderDate_ItemTotal"
   ]
  },
  {
   "cell_type": "code",
   "execution_count": 164,
   "metadata": {},
   "outputs": [
    {
     "data": {
      "image/png": "[encoded data removed]",
      "text/plain": [
       "<Figure size 432x288 with 1 Axes>"
      ]
     },
     "metadata": {
      "needs_background": "light"
     },
     "output_type": "display_data"
    }
   ],
   "source": [
    "# Plot OrderDate & sum of purchases by date\n",
    "\n",
    "fig, ax = plt.subplots()\n",
    "ax.plot(df_OrderDate_ItemTotal['OrderDate'], df_OrderDate_ItemTotal['ItemTotal'])\n",
    "ax.set_xlabel('Year')\n",
    "ax.set_ylabel('$ Amount')\n",
    "ax.set_title('Daily Purchase Amount')\n",
    "plt.show()"
   ]
  },
  {
   "cell_type": "code",
   "execution_count": 165,
   "metadata": {},
   "outputs": [
    {
     "data": {
      "text/html": [
       "<div>\n",
       "<style scoped>\n",
       "    .dataframe tbody tr th:only-of-type {\n",
       "        vertical-align: middle;\n",
       "    }\n",
       "\n",
       "    .dataframe tbody tr th {\n",
       "        vertical-align: top;\n",
       "    }\n",
       "\n",
       "    .dataframe thead th {\n",
       "        text-align: right;\n",
       "    }\n",
       "</style>\n",
       "<table border=\"1\" class=\"dataframe\">\n",
       "  <thead>\n",
       "    <tr style=\"text-align: right;\">\n",
       "      <th></th>\n",
       "      <th>OrderYear</th>\n",
       "      <th>SumItemTotal</th>\n",
       "    </tr>\n",
       "  </thead>\n",
       "  <tbody>\n",
       "    <tr>\n",
       "      <th>0</th>\n",
       "      <td>2008</td>\n",
       "      <td>117.09</td>\n",
       "    </tr>\n",
       "    <tr>\n",
       "      <th>1</th>\n",
       "      <td>2009</td>\n",
       "      <td>456.85</td>\n",
       "    </tr>\n",
       "    <tr>\n",
       "      <th>2</th>\n",
       "      <td>2010</td>\n",
       "      <td>2421.77</td>\n",
       "    </tr>\n",
       "    <tr>\n",
       "      <th>3</th>\n",
       "      <td>2011</td>\n",
       "      <td>7176.93</td>\n",
       "    </tr>\n",
       "    <tr>\n",
       "      <th>4</th>\n",
       "      <td>2012</td>\n",
       "      <td>3651.85</td>\n",
       "    </tr>\n",
       "    <tr>\n",
       "      <th>5</th>\n",
       "      <td>2013</td>\n",
       "      <td>3689.19</td>\n",
       "    </tr>\n",
       "    <tr>\n",
       "      <th>6</th>\n",
       "      <td>2014</td>\n",
       "      <td>2075.99</td>\n",
       "    </tr>\n",
       "    <tr>\n",
       "      <th>7</th>\n",
       "      <td>2015</td>\n",
       "      <td>1257.52</td>\n",
       "    </tr>\n",
       "    <tr>\n",
       "      <th>8</th>\n",
       "      <td>2016</td>\n",
       "      <td>823.48</td>\n",
       "    </tr>\n",
       "    <tr>\n",
       "      <th>9</th>\n",
       "      <td>2017</td>\n",
       "      <td>1392.77</td>\n",
       "    </tr>\n",
       "    <tr>\n",
       "      <th>10</th>\n",
       "      <td>2018</td>\n",
       "      <td>2689.12</td>\n",
       "    </tr>\n",
       "    <tr>\n",
       "      <th>11</th>\n",
       "      <td>2019</td>\n",
       "      <td>4604.85</td>\n",
       "    </tr>\n",
       "  </tbody>\n",
       "</table>\n",
       "</div>"
      ],
      "text/plain": [
       "    OrderYear SumItemTotal\n",
       "0        2008       117.09\n",
       "1        2009       456.85\n",
       "2        2010      2421.77\n",
       "3        2011      7176.93\n",
       "4        2012      3651.85\n",
       "5        2013      3689.19\n",
       "6        2014      2075.99\n",
       "7        2015      1257.52\n",
       "8        2016       823.48\n",
       "9        2017      1392.77\n",
       "10       2018      2689.12\n",
       "11       2019      4604.85"
      ]
     },
     "execution_count": 165,
     "metadata": {},
     "output_type": "execute_result"
    }
   ],
   "source": [
    "# Purchases by year \n",
    "\n",
    "OrderYear_ItemTotal = engine.execute('SELECT OrderYear, SUM(ItemTotal) FROM purchases GROUP BY OrderYear')\n",
    "OrderYear_ItemTotal = [row for row in OrderYear_ItemTotal]\n",
    "df_OrderYear_ItemTotal = pd.DataFrame.from_records(OrderYear_ItemTotal)\n",
    "df_OrderYear_ItemTotal.columns = ['OrderYear', 'SumItemTotal']\n",
    "df_OrderYear_ItemTotal"
   ]
  },
  {
   "cell_type": "code",
   "execution_count": 166,
   "metadata": {},
   "outputs": [
    {
     "data": {
      "image/png": "[encoded data removed]",
      "text/plain": [
       "<Figure size 432x288 with 1 Axes>"
      ]
     },
     "metadata": {
      "needs_background": "light"
     },
     "output_type": "display_data"
    }
   ],
   "source": [
    "# Plot purchases by year\n",
    "\n",
    "fig,ax = plt.subplots()\n",
    "ax.bar(df_OrderYear_ItemTotal['OrderYear'], df_OrderYear_ItemTotal['SumItemTotal'])\n",
    "ax.set_xlabel('Year')\n",
    "ax.set_ylabel('$ Amount')\n",
    "ax.set_title('Purchases by Year')\n",
    "plt.xticks([x for x in df_OrderYear_ItemTotal['OrderYear']], rotation = 45)\n",
    "plt.show()"
   ]
  },
  {
   "cell_type": "code",
   "execution_count": null,
   "metadata": {},
   "outputs": [],
   "source": []
  },
  {
   "cell_type": "markdown",
   "metadata": {},
   "source": [
    "<a href='#home'>Home</a>"
   ]
  }
 ],
 "metadata": {
  "kernelspec": {
   "display_name": "Python 3",
   "language": "python",
   "name": "python3"
  },
  "language_info": {
   "codemirror_mode": {
    "name": "ipython",
    "version": 3
   },
   "file_extension": ".py",
   "mimetype": "text/x-python",
   "name": "python",
   "nbconvert_exporter": "python",
   "pygments_lexer": "ipython3",
   "version": "3.8.5"
  }
 },
 "nbformat": 4,
 "nbformat_minor": 4
}
